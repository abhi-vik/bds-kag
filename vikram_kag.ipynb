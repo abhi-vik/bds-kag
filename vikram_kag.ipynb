{
 "cells": [
  {
   "cell_type": "markdown",
   "metadata": {},
   "source": [
    "# Business Data Science\n",
    "\n",
    "Abhilash Vikram Gupta\n",
    "\n",
    "https://www.kaggle.com/c/mis382n-fall-2019"
   ]
  },
  {
   "cell_type": "code",
   "execution_count": 244,
   "metadata": {},
   "outputs": [],
   "source": [
    "import numpy as np\n",
    "import pandas as pd\n",
    "\n",
    "from sklearn.metrics import roc_auc_score\n",
    "from sklearn.linear_model import LogisticRegression\n",
    "from sklearn.feature_selection import RFECV\n",
    "from sklearn.model_selection import GridSearchCV, StratifiedKFold, train_test_split\n",
    "from sklearn.calibration import CalibratedClassifierCV\n",
    "\n",
    "import xgboost as xgb\n",
    "import lightgbm as lgbm\n",
    "\n",
    "from IPython.display import display"
   ]
  },
  {
   "cell_type": "code",
   "execution_count": 209,
   "metadata": {},
   "outputs": [],
   "source": [
    "df = pd.read_csv('data/train_final.csv', index_col='Id')\n",
    "df_ult = pd.read_csv('data/test_final.csv', index_col='Id')\n",
    "\n",
    "X = df.drop('Y', axis='columns').values\n",
    "y = df['Y'].values\n",
    "\n",
    "n_features = X.shape[1]\n",
    "\n",
    "X_ult = df_ult.values\n",
    "\n",
    "scale_pos_weight = len(y[y == 0])/len(y[y == 1])"
   ]
  },
  {
   "cell_type": "markdown",
   "metadata": {},
   "source": [
    "## Feature selection\n",
    "\n",
    "done using forward, backward and a model's feature_importances_."
   ]
  },
  {
   "cell_type": "code",
   "execution_count": 285,
   "metadata": {},
   "outputs": [],
   "source": [
    "def get_ind(mask): return [index for index, mask_ele in enumerate(mask) if mask_ele==True]\n",
    "\n",
    "def get_best_ind(importances, start=7, number=5):\n",
    "    ranked_features = sorted(range(len(importances)), key=lambda i: importances[i], reverse=True)\n",
    "    return [ranked_features[:i] for i in range(start, start + number)]\n",
    "\n",
    "def get_clf():\n",
    "    return lgbm.LGBMClassifier(n_estimators=400,\n",
    "                               learning_rate=0.1, \n",
    "                               boosting_type='goss', \n",
    "                               max_depth=5, \n",
    "                               num_leaves=33,\n",
    "                               objective='binary', \n",
    "                               scale_pos_weight=scale_pos_weight)"
   ]
  },
  {
   "cell_type": "code",
   "execution_count": 287,
   "metadata": {},
   "outputs": [],
   "source": [
    "def get_features_forward(clf):\n",
    "    primary = ([], 0)\n",
    "\n",
    "    for _ in range(n_features):\n",
    "        best_feature_score = (0, 0)\n",
    "        remaining_features = np.setdiff1d(list(range(n_features)), primary[0]).tolist()\n",
    "        for current_feature in remaining_features:\n",
    "            current_features = primary[0] + [current_feature]\n",
    "            clf.fit(X[:, current_features], y)\n",
    "            current_score = roc_auc_score(y, clf.predict_proba(X[:, current_features])[:, 1])\n",
    "            if current_score > best_feature_score[1]:\n",
    "                best_feature_score = (current_feature, current_score)\n",
    "        if best_feature_score[1] > primary[1]:\n",
    "            primary = (primary[0] + [best_feature_score[0]], best_feature_score[1])\n",
    "        else:\n",
    "            break\n",
    "\n",
    "    print(f'score {primary[1]}.')\n",
    "    return primary[0]"
   ]
  },
  {
   "cell_type": "code",
   "execution_count": 288,
   "metadata": {},
   "outputs": [],
   "source": [
    "def get_features_backward(clf):\n",
    "    rfecv = RFECV(estimator=clf, step=1, cv=StratifiedKFold(5), scoring='roc_auc', n_jobs=-1)\n",
    "    rfecv.fit(X, y)\n",
    "\n",
    "    return get_ind(rfecv.ranking_ == 1)"
   ]
  },
  {
   "cell_type": "code",
   "execution_count": 289,
   "metadata": {},
   "outputs": [
    {
     "name": "stdout",
     "output_type": "stream",
     "text": [
      "score 0.9994400774173442.\n"
     ]
    },
    {
     "data": {
      "text/plain": [
       "[0, 2, 3, 7, 13, 14, 15, 18, 19, 20, 21, 22]"
      ]
     },
     "execution_count": 289,
     "metadata": {},
     "output_type": "execute_result"
    }
   ],
   "source": [
    "sorted(get_features_forward(get_clf()))"
   ]
  },
  {
   "cell_type": "code",
   "execution_count": 290,
   "metadata": {},
   "outputs": [
    {
     "data": {
      "text/plain": [
       "[0, 3, 7, 12, 13, 14, 15]"
      ]
     },
     "execution_count": 290,
     "metadata": {},
     "output_type": "execute_result"
    }
   ],
   "source": [
    "get_features_backward(get_clf())"
   ]
  },
  {
   "cell_type": "code",
   "execution_count": 291,
   "metadata": {},
   "outputs": [
    {
     "data": {
      "image/png": "[encoded data removed]",
      "text/plain": [
       "<Figure size 1152x504 with 1 Axes>"
      ]
     },
     "metadata": {
      "needs_background": "light"
     },
     "output_type": "display_data"
    }
   ],
   "source": [
    "clf = get_clf().fit(X, y)\n",
    "pd.Series(clf.feature_importances_, index=list(range(X.shape[1]))).plot.bar(color='steelblue', figsize=(16, 7));"
   ]
  },
  {
   "cell_type": "markdown",
   "metadata": {},
   "source": [
    "#### Conclusions\n",
    "\n",
    "Based on weighted average and intuition."
   ]
  },
  {
   "cell_type": "code",
   "execution_count": 292,
   "metadata": {},
   "outputs": [
    {
     "data": {
      "text/plain": [
       "[[14, 0, 13, 15, 7, 3, 12],\n",
       " [14, 0, 13, 15, 7, 3, 12, 22],\n",
       " [14, 0, 13, 15, 7, 3, 12, 22, 16],\n",
       " [14, 0, 13, 15, 7, 3, 12, 22, 16, 11],\n",
       " [14, 0, 13, 15, 7, 3, 12, 22, 16, 11, 6]]"
      ]
     },
     "execution_count": 292,
     "metadata": {},
     "output_type": "execute_result"
    }
   ],
   "source": [
    "get_best_ind(clf.feature_importances_)"
   ]
  },
  {
   "cell_type": "markdown",
   "metadata": {},
   "source": [
    "## Training\n",
    "\n",
    "and collection of best models."
   ]
  },
  {
   "cell_type": "code",
   "execution_count": 297,
   "metadata": {},
   "outputs": [
    {
     "name": "stdout",
     "output_type": "stream",
     "text": [
      "Best parameters {'boosting_type': 'goss', 'learning_rate': 0.1, 'max_depth': 5, 'n_estimators': 500, 'num_leaves': 33, 'objective': 'binary', 'reg_alpha': 0.001, 'reg_lambda': 1, 'scale_pos_weight': 0.06141885325558795}.\n",
      "Best accuracy is 0.8847149354442811.\n",
      "Best parameters {'boosting_type': 'goss', 'learning_rate': 0.1, 'max_depth': 5, 'n_estimators': 500, 'num_leaves': 33, 'objective': 'binary', 'reg_alpha': 0.001, 'reg_lambda': 1, 'scale_pos_weight': 0.06141885325558795}.\n",
      "Best accuracy is 0.8802941270031897.\n",
      "Best parameters {'boosting_type': 'goss', 'learning_rate': 0.1, 'max_depth': 5, 'n_estimators': 500, 'num_leaves': 33, 'objective': 'binary', 'reg_alpha': 0.01, 'reg_lambda': 1, 'scale_pos_weight': 0.06141885325558795}.\n",
      "Best accuracy is 0.8851039257978818.\n",
      "Best parameters {'boosting_type': 'goss', 'learning_rate': 0.1, 'max_depth': 5, 'n_estimators': 500, 'num_leaves': 33, 'objective': 'binary', 'reg_alpha': 0.001, 'reg_lambda': 1, 'scale_pos_weight': 0.06141885325558795}.\n",
      "Best accuracy is 0.8808508033723399.\n",
      "Best parameters {'boosting_type': 'goss', 'learning_rate': 0.1, 'max_depth': 5, 'n_estimators': 500, 'num_leaves': 33, 'objective': 'binary', 'reg_alpha': 0.01, 'reg_lambda': 1, 'scale_pos_weight': 0.06141885325558795}.\n",
      "Best accuracy is 0.8793339578178002.\n"
     ]
    }
   ],
   "source": [
    "# params = {\n",
    "# 'task':'train',\n",
    "# 'numleaves': 31, 'objective': 'multiclass', 'numclass':10,\n",
    "# 'mindatainleaf': 100, 'learningrate': 0.05,\n",
    "# 'featurefraction': 0.85, 'baggingfraction': 0.85,\n",
    "# 'baggingfreq': 2, 'metric': 'multierror',\n",
    "# 'maxbin':128, 'numthreads': 32\n",
    "# }\n",
    "\n",
    "clfs = []\n",
    "\n",
    "tuning_parameters = [{'n_estimators':                  [500], \n",
    "                      'boosting_type':                 ['goss'],\n",
    "                      'learning_rate':                 [0.1], \n",
    "                      'max_depth':                     [5],\n",
    "                      'num_leaves':                    [33],\n",
    "                      'objective':                     ['binary'],\n",
    "                      'reg_alpha':                     np.logspace(-3, -2, 2),\n",
    "                      'reg_lambda':                    [1],\n",
    "                      'scale_pos_weight':              [scale_pos_weight]}]\n",
    "\n",
    "for feats in get_best_ind(clf.feature_importances_):\n",
    "\n",
    "    X_train, X_test, y_train, y_test = train_test_split(X[:, feats], y, test_size=0.001)\n",
    "\n",
    "    grid = GridSearchCV(lgbm.LGBMClassifier(), tuning_parameters, cv=30, scoring='roc_auc', n_jobs=-1)\n",
    "    grid.fit(X_train, y_train)\n",
    "\n",
    "    print(f'Best parameters {grid.best_params_}.')\n",
    "    print(f'Best accuracy is {grid.best_score_}.')\n",
    "#     print(f'Best test score is {grid.score(X_test, y_test)}.')\n",
    "    \n",
    "    estimator = grid.best_estimator_\n",
    "    clfs.append(estimator)"
   ]
  },
  {
   "cell_type": "markdown",
   "metadata": {},
   "source": [
    "## Generation\n",
    "\n",
    "of submissions."
   ]
  },
  {
   "cell_type": "code",
   "execution_count": 298,
   "metadata": {},
   "outputs": [],
   "source": [
    "req_rows = 16384\n",
    "preds_dfs = [pd.DataFrame(clf.predict_proba(X_ult[:, feats])[:, 1], \n",
    "                          index=list(range(req_rows, req_rows*2 + 1)), \n",
    "                          columns=['Y']) \n",
    "             for feats, clf in \n",
    "             zip(get_best_ind(clf.feature_importances_), clfs)]\n",
    "\n",
    "for idx, df in enumerate(preds_dfs):\n",
    "    df.index.name = 'Id'\n",
    "    df.to_csv(f'submission_24_{idx}.csv')"
   ]
  },
  {
   "cell_type": "code",
   "execution_count": null,
   "metadata": {},
   "outputs": [],
   "source": []
  }
 ],
 "metadata": {
  "kernelspec": {
   "display_name": "Python 3",
   "language": "python",
   "name": "python3"
  },
  "language_info": {
   "codemirror_mode": {
    "name": "ipython",
    "version": 3
   },
   "file_extension": ".py",
   "mimetype": "text/x-python",
   "name": "python",
   "nbconvert_exporter": "python",
   "pygments_lexer": "ipython3",
   "version": "3.6.8"
  }
 },
 "nbformat": 4,
 "nbformat_minor": 2
}
