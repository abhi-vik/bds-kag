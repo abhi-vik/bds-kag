{
 "cells": [
  {
   "cell_type": "markdown",
   "metadata": {},
   "source": [
    "# Business Data Science\n",
    "\n",
    "Abhilash Vikram Gupta\n",
    "\n",
    "https://www.kaggle.com/c/mis382n-fall-2019"
   ]
  },
  {
   "cell_type": "code",
   "execution_count": 185,
   "metadata": {},
   "outputs": [],
   "source": [
    "import numpy as np\n",
    "import pandas as pd\n",
    "\n",
    "from sklearn.metrics import roc_auc_score\n",
    "from sklearn.linear_model import LogisticRegression\n",
    "from sklearn.preprocessing import MinMaxScaler\n",
    "from sklearn.feature_selection import RFECV, SelectKBest, chi2\n",
    "from sklearn.model_selection import GridSearchCV, StratifiedKFold, train_test_split\n",
    "\n",
    "import xgboost as xgb\n",
    "import lightgbm as lgbm\n",
    "\n",
    "from IPython.display import display"
   ]
  },
  {
   "cell_type": "code",
   "execution_count": 169,
   "metadata": {},
   "outputs": [],
   "source": [
    "def get_ind(array): return [index for index, rank in enumerate(array) if rank==True]\n",
    "\n",
    "df = pd.read_csv('train_final.csv', index_col='Id')\n",
    "df_ult = pd.read_csv('test_final.csv', index_col='Id')\n",
    "\n",
    "X = df.drop('Y', axis='columns').values\n",
    "y = df['Y'].values\n",
    "\n",
    "n_features = X.shape[1]\n",
    "\n",
    "X_ult = df_test.values\n",
    "\n",
    "scale_pos_weight = len(y[y == 0])/len(y[y == 1])"
   ]
  },
  {
   "cell_type": "code",
   "execution_count": 170,
   "metadata": {},
   "outputs": [],
   "source": [
    "def get_features_backward(clf):\n",
    "    rfecv = RFECV(estimator=clf, step=1, cv=StratifiedKFold(5), scoring='roc_auc', n_jobs=-1)\n",
    "    rfecv.fit(X, y)\n",
    "\n",
    "    return get_ind(rfecv.ranking_ == 1)"
   ]
  },
  {
   "cell_type": "code",
   "execution_count": 142,
   "metadata": {},
   "outputs": [],
   "source": [
    "def get_features_forward(clf):\n",
    "    primary = ([], 0)\n",
    "\n",
    "    for _ in range(n_features):\n",
    "        best_feature_score = (0, 0)\n",
    "        remaining_features = np.setdiff1d(list(range(n_features)), primary[0]).tolist()\n",
    "        for current_feature in remaining_features:\n",
    "            current_features = primary[0] + [current_feature]\n",
    "            clf.fit(X[:, current_features], y)\n",
    "            current_score = roc_auc_score(y, clf.predict_proba(X[:, current_features])[:, 1])\n",
    "            if current_score > best_feature_score[1]:\n",
    "                best_feature_score = (current_feature, current_score)\n",
    "        if best_feature_score[1] > primary[1]:\n",
    "            primary = (primary[0] + [best_feature_score[0]], best_feature_score[1])\n",
    "        else:\n",
    "            break\n",
    "\n",
    "    print(f'score {primary[1]}.')\n",
    "    return primary[0]"
   ]
  },
  {
   "cell_type": "code",
   "execution_count": 172,
   "metadata": {},
   "outputs": [
    {
     "data": {
      "text/plain": [
       "[5, 10, 11, 12, 13, 16, 19, 22, 23]"
      ]
     },
     "execution_count": 172,
     "metadata": {},
     "output_type": "execute_result"
    }
   ],
   "source": [
    "X_norm = MinMaxScaler().fit_transform(X)\n",
    "chi_selector = SelectKBest(chi2, k=9)\n",
    "chi_selector.fit(X_norm, y)\n",
    "\n",
    "chi_support = chi_selector.get_support()\n",
    "get_ind(chi_support)"
   ]
  },
  {
   "cell_type": "code",
   "execution_count": 179,
   "metadata": {},
   "outputs": [
    {
     "data": {
      "image/png": "[encoded data removed]",
      "text/plain": [
       "<Figure size 1152x504 with 1 Axes>"
      ]
     },
     "metadata": {
      "needs_background": "light"
     },
     "output_type": "display_data"
    }
   ],
   "source": [
    "def get_clf():\n",
    "    return lgbm.LGBMClassifier(learning_rate=0.1, \n",
    "                               boosting_type='goss', \n",
    "                               max_depth=3, \n",
    "                               objective='binary', \n",
    "                               scale_pos_weight=scale_pos_weight)\n",
    "\n",
    "clf = get_clf().fit(X, y)\n",
    "\n",
    "pd.Series(clf.feature_importances_, index=list(range(n_features))).plot.bar(color='steelblue', figsize=(16, 7));"
   ]
  },
  {
   "cell_type": "code",
   "execution_count": 211,
   "metadata": {},
   "outputs": [
    {
     "data": {
      "text/plain": [
       "array([ 73,   1,   8,  61,   4,   6,  31,  53,   1,   7,   0,   8,  47,\n",
       "       118,  69,  52,  38,   0,  15,   5,   0,   0,  28,   8], dtype=int32)"
      ]
     },
     "metadata": {},
     "output_type": "display_data"
    },
    {
     "data": {
      "text/plain": [
       "[0, 3, 7, 12, 13, 14, 15]"
      ]
     },
     "execution_count": 211,
     "metadata": {},
     "output_type": "execute_result"
    }
   ],
   "source": [
    "display(clf.feature_importances_)\n",
    "get_ind(clf.feature_importances_ >= 47)"
   ]
  },
  {
   "cell_type": "code",
   "execution_count": 182,
   "metadata": {},
   "outputs": [
    {
     "name": "stdout",
     "output_type": "stream",
     "text": [
      "score 0.9268037393780095.\n"
     ]
    },
    {
     "data": {
      "text/plain": [
       "[0, 3, 7, 9, 13, 14, 15, 16, 18]"
      ]
     },
     "execution_count": 182,
     "metadata": {},
     "output_type": "execute_result"
    }
   ],
   "source": [
    "sorted(get_features_forward(get_clf()))"
   ]
  },
  {
   "cell_type": "code",
   "execution_count": 181,
   "metadata": {},
   "outputs": [
    {
     "data": {
      "text/plain": [
       "[0, 3, 7, 12, 13, 14, 15, 16]"
      ]
     },
     "execution_count": 181,
     "metadata": {},
     "output_type": "execute_result"
    }
   ],
   "source": [
    "get_features_backward(get_clf())"
   ]
  },
  {
   "cell_type": "code",
   "execution_count": 214,
   "metadata": {},
   "outputs": [
    {
     "name": "stdout",
     "output_type": "stream",
     "text": [
      "Best train accuracy is 0.8669479864292068.\n",
      "Best parameters {'boosting_type': 'goss', 'learning_rate': 0.1, 'max_depth': 5, 'n_estimators': 400, 'num_leaves': 33, 'objective': 'binary', 'scale_pos_weight': 0.06141885325558795}.\n",
      "Best test accuracy is 0.8262338081003459.\n",
      "Best train accuracy is 0.8687320514830176.\n",
      "Best parameters {'boosting_type': 'goss', 'learning_rate': 0.1, 'max_depth': 5, 'n_estimators': 400, 'num_leaves': 33, 'objective': 'binary', 'scale_pos_weight': 0.06141885325558795}.\n",
      "Best test accuracy is 0.8851706036745407.\n",
      "Best train accuracy is 0.8691875327281109.\n",
      "Best parameters {'boosting_type': 'goss', 'learning_rate': 0.1, 'max_depth': 5, 'n_estimators': 420, 'num_leaves': 33, 'objective': 'binary', 'scale_pos_weight': 0.06141885325558795}.\n",
      "Best test accuracy is 0.8946639958825411.\n",
      "Best train accuracy is 0.865179622257405.\n",
      "Best parameters {'boosting_type': 'goss', 'learning_rate': 0.1, 'max_depth': 5, 'n_estimators': 420, 'num_leaves': 33, 'objective': 'binary', 'scale_pos_weight': 0.06141885325558795}.\n",
      "Best test accuracy is 0.8921082788738501.\n",
      "Best train accuracy is 0.8686538775800873.\n",
      "Best parameters {'boosting_type': 'goss', 'learning_rate': 0.1, 'max_depth': 5, 'n_estimators': 360, 'num_leaves': 33, 'objective': 'binary', 'scale_pos_weight': 0.06141885325558795}.\n",
      "Best test accuracy is 0.8630913804277383.\n"
     ]
    }
   ],
   "source": [
    "feats_tiny = [0, 3, 7, 13, 14, 15]\n",
    "feats_small = [0, 3, 7, 12, 13, 14, 15]\n",
    "feats_med = [0, 3, 7, 12, 13, 14, 15, 16]\n",
    "feats_big = [0, 3, 6, 7, 12, 13, 14, 15, 16, 22]\n",
    "feats_all = list(range(X_ult.shape[1]))\n",
    "\n",
    "clfs = []\n",
    "for feats in [feats_tiny, feats_small, feats_med, feats_big, feats_all]:\n",
    "    X_train, X_test, y_train, y_test = train_test_split(X[:, feats], y, test_size=0.1)\n",
    "\n",
    "    tuned_parameters = [{'n_estimators':                  [340, 360, 380, 400, 420], \n",
    "                         'boosting_type':                 ['goss'],\n",
    "                         'learning_rate':                 [0.1], \n",
    "                         'max_depth':                     [5],\n",
    "                         'num_leaves':                    [33],\n",
    "                         'objective':                     ['binary'],\n",
    "                         'scale_pos_weight':              [scale_pos_weight]}]\n",
    "\n",
    "    grid = GridSearchCV(get_clf(), tuned_parameters, cv=10, scoring='roc_auc', n_jobs=-1)\n",
    "    grid.fit(X_train, y_train)\n",
    "    print(f'Best train accuracy is {grid.best_score_}.')\n",
    "    print(f'Best parameters {grid.best_params_}.')\n",
    "    print(f'Best test accuracy is {grid.score(X_test, y_test)}.')\n",
    "    clfs.append(grid)"
   ]
  },
  {
   "cell_type": "code",
   "execution_count": 235,
   "metadata": {},
   "outputs": [],
   "source": [
    "preds_dfs = [pd.DataFrame(clf.predict_proba(X_ult[:, feats])[:, 1], \n",
    "                          index=list(range(16384, 32768 + 1)), \n",
    "                          columns=['Y']) for feats, clf in \n",
    "         zip([feat_tiny, feat_small, feat_med, feat_big, feat_all], clfs)]\n",
    "\n",
    "for idx, df in enumerate(preds_dfs):\n",
    "    df.index.name = 'Id'\n",
    "    df.to_csv(f'submission_22_{idx}.csv')"
   ]
  }
 ],
 "metadata": {
  "kernelspec": {
   "display_name": "Python 3",
   "language": "python",
   "name": "python3"
  },
  "language_info": {
   "codemirror_mode": {
    "name": "ipython",
    "version": 3
   },
   "file_extension": ".py",
   "mimetype": "text/x-python",
   "name": "python",
   "nbconvert_exporter": "python",
   "pygments_lexer": "ipython3",
   "version": "3.6.8"
  }
 },
 "nbformat": 4,
 "nbformat_minor": 2
}
