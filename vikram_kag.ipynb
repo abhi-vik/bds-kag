{
 "cells": [
  {
   "cell_type": "markdown",
   "metadata": {},
   "source": [
    "# Business Data Science\n",
    "\n",
    "Abhilash Vikram Gupta\n",
    "\n",
    "https://www.kaggle.com/c/mis382n-fall-2019"
   ]
  },
  {
   "cell_type": "code",
   "execution_count": 57,
   "metadata": {},
   "outputs": [],
   "source": [
    "import numpy as np\n",
    "import pandas as pd\n",
    "\n",
    "from functools import partial\n",
    "\n",
    "from sklearn.preprocessing import StandardScaler\n",
    "from sklearn.decomposition import PCA\n",
    "from sklearn.metrics import roc_auc_score\n",
    "from sklearn.feature_selection import RFECV\n",
    "from sklearn.model_selection import GridSearchCV, StratifiedKFold, train_test_split\n",
    "\n",
    "import xgboost as xgb\n",
    "import lightgbm as lgbm\n",
    "\n",
    "from IPython.display import display"
   ]
  },
  {
   "cell_type": "code",
   "execution_count": 136,
   "metadata": {},
   "outputs": [],
   "source": [
    "df = pd.read_csv('data/train_final.csv', index_col='Id')\n",
    "df_ult = pd.read_csv('data/test_final.csv', index_col='Id')\n",
    "\n",
    "X = df.drop('Y', axis='columns').values\n",
    "y = df['Y'].values\n",
    "\n",
    "n_features = X.shape[1]\n",
    "\n",
    "X_ult = df_ult.values\n",
    "\n",
    "scale_pos_weight = len(y[y == 0])/len(y[y == 1])"
   ]
  },
  {
   "cell_type": "markdown",
   "metadata": {},
   "source": [
    "## Feature selection\n",
    "\n",
    "done using forward, backward and a model's feature_importances_."
   ]
  },
  {
   "cell_type": "code",
   "execution_count": 3,
   "metadata": {},
   "outputs": [],
   "source": [
    "def get_ind(mask): return [index for index, mask_ele in enumerate(mask) if mask_ele==True]\n",
    "\n",
    "def get_best_ind(importances, start=7, number=5):\n",
    "    ranked_features = sorted(range(len(importances)), key=lambda i: importances[i], reverse=True)\n",
    "    return [ranked_features[:i] for i in range(start, start + number)]\n",
    "\n",
    "def get_clf():\n",
    "#     return lgbm.LGBMClassifier(n_estimators=400,\n",
    "#                                learning_rate=0.1, \n",
    "#                                boosting_type='goss', \n",
    "#                                max_depth=5, \n",
    "#                                num_leaves=33,\n",
    "#                                objective='binary', \n",
    "#                                scale_pos_weight=scale_pos_weight)\n",
    "    return xgb.XGBClassifier(max_depth=5, \n",
    "                             learning_rate=0.1, \n",
    "                             n_estimators=750, \n",
    "                             objective='binary:logistic', \n",
    "                             tree_method='auto', \n",
    "                             eval_metric='auc', \n",
    "                             n_jobs=-1, \n",
    "                             reg_alpha=0.001,\n",
    "                             scale_pos_weight=scale_pos_weight)\n",
    "    "
   ]
  },
  {
   "cell_type": "code",
   "execution_count": 83,
   "metadata": {},
   "outputs": [],
   "source": [
    "def get_best_features(model, data, step=1):\n",
    "    rfecv = RFECV(estimator=model, step=step, cv=StratifiedKFold(5), scoring='roc_auc', n_jobs=-1)\n",
    "    rfecv.fit(data, y)\n",
    "\n",
    "    return get_ind(rfecv.ranking_ == 1)"
   ]
  },
  {
   "cell_type": "code",
   "execution_count": 79,
   "metadata": {},
   "outputs": [
    {
     "data": {
      "text/plain": [
       "[1, 3, 6, 7, 12, 13, 14, 15, 16, 18, 23]"
      ]
     },
     "execution_count": 79,
     "metadata": {},
     "output_type": "execute_result"
    }
   ],
   "source": [
    "get_best_features(get_clf(), X)"
   ]
  },
  {
   "cell_type": "code",
   "execution_count": 24,
   "metadata": {},
   "outputs": [
    {
     "data": {
      "image/png": "[encoded data removed]",
      "text/plain": [
       "<Figure size 1152x504 with 1 Axes>"
      ]
     },
     "metadata": {
      "needs_background": "light"
     },
     "output_type": "display_data"
    }
   ],
   "source": [
    "clf = get_clf().fit(X, y)\n",
    "pd.Series(clf.feature_importances_, index=list(range(X.shape[1]))).plot.bar(color='steelblue', figsize=(16, 7));"
   ]
  },
  {
   "cell_type": "markdown",
   "metadata": {},
   "source": [
    "#### Conclusions\n",
    "\n",
    "Based on weighted average and intuition."
   ]
  },
  {
   "cell_type": "code",
   "execution_count": 90,
   "metadata": {},
   "outputs": [],
   "source": [
    "# feats_to_try = get_best_ind(clf.feature_importances_)\n",
    "feats_to_try = [\n",
    "#     [3, 6, 7, 12, 13, 14, 15],\n",
    "    [3, 6, 7, 12, 13, 14, 15, 16, 18, 21],\n",
    "    [3, 6, 7, 12, 13, 14, 15, 16, 18],\n",
    "    [1, 3, 6, 7, 12, 13, 14, 15, 16, 18, 23] # was best last time\n",
    "]"
   ]
  },
  {
   "cell_type": "markdown",
   "metadata": {},
   "source": [
    "## Training\n",
    "\n",
    "and collection of best models."
   ]
  },
  {
   "cell_type": "code",
   "execution_count": 85,
   "metadata": {},
   "outputs": [
    {
     "name": "stdout",
     "output_type": "stream",
     "text": [
      "Best parameters {'booster': 'gbtree', 'learning_rate': 0.1, 'max_depth': 5, 'n_estimators': 742, 'objective': 'binary:logistic', 'reg_alpha': 0.0011, 'reg_lambda': 1.2, 'tree_method': 'auto'}.\n",
      "Best auc score is 0.8860748069839841.\n",
      "Best parameters {'booster': 'gbtree', 'learning_rate': 0.1, 'max_depth': 5, 'n_estimators': 728, 'objective': 'binary:logistic', 'reg_alpha': 0.0011, 'reg_lambda': 1.2, 'tree_method': 'auto'}.\n",
      "Best auc score is 0.8831812165578737.\n",
      "Best parameters {'booster': 'gbtree', 'learning_rate': 0.1, 'max_depth': 5, 'n_estimators': 728, 'objective': 'binary:logistic', 'reg_alpha': 0.0011, 'reg_lambda': 0.9, 'tree_method': 'auto'}.\n",
      "Best auc score is 0.8850524446357293.\n"
     ]
    }
   ],
   "source": [
    "# params = {\n",
    "# 'task':'train',\n",
    "# 'numleaves': 31, 'objective': 'multiclass', 'numclass':10,\n",
    "# 'mindatainleaf': 100, 'learningrate': 0.05,\n",
    "# 'featurefraction': 0.85, 'baggingfraction': 0.85,\n",
    "# 'baggingfreq': 2, 'metric': 'multierror',\n",
    "# 'maxbin':128, 'numthreads': 32\n",
    "# }\n",
    "\n",
    "# lgb_train = lgb.Dataset(X_train, \n",
    "#                         label=y_train,\n",
    "#                         feature_name=feature_names, \n",
    "#                         categorical_feature=categorical_features)\n",
    "\n",
    "# tuning_parameters = [{'n_estimators':                  [500], \n",
    "#                       'boosting_type':                 ['goss'],\n",
    "#                       'learning_rate':                 [0.1], \n",
    "#                       'max_depth':                     [5],\n",
    "#                       'num_leaves':                    [33],\n",
    "#                       'objective':                     ['binary'],\n",
    "#                       'reg_alpha':                     np.logspace(-3, -2, 2),\n",
    "#                       'reg_lambda':                    [1],\n",
    "#                       'scale_pos_weight':              [scale_pos_weight]}]\n",
    "\n",
    "tuning_parameters = [{'max_depth':                      [5], \n",
    "                      'learning_rate':                  [0.1], \n",
    "                      'n_estimators':                   [728, 735, 742], \n",
    "                      'objective':                      ['binary:logistic'], \n",
    "                      'booster':                        ['gbtree'],\n",
    "                      'tree_method':                    ['auto'], \n",
    "                      'reg_alpha':                      [0.0011], \n",
    "                      'reg_lambda':                     [0.9, 1.2]}]\n",
    "\n",
    "clfs = []\n",
    "for feats in feats_to_try:\n",
    "\n",
    "    grid = GridSearchCV(xgb.XGBClassifier(n_jobs=-1, eval_metric='auc', scale_pos_weight=scale_pos_weight), \n",
    "                        tuning_parameters, \n",
    "                        cv=StratifiedKFold(5), \n",
    "                        scoring='roc_auc', \n",
    "                        n_jobs=-1)\n",
    "    \n",
    "    grid.fit(X[:, feats], y)\n",
    "    \n",
    "    print(f'Best parameters {grid.best_params_}.')\n",
    "    print(f'Best auc score is {grid.best_score_}.')\n",
    "    \n",
    "    clfs.append(grid.best_estimator_)"
   ]
  },
  {
   "cell_type": "markdown",
   "metadata": {},
   "source": [
    "## Generation\n",
    "\n",
    "of submissions."
   ]
  },
  {
   "cell_type": "code",
   "execution_count": 91,
   "metadata": {},
   "outputs": [
    {
     "data": {
      "text/plain": [
       "'Re-training...'"
      ]
     },
     "metadata": {},
     "output_type": "display_data"
    },
    {
     "data": {
      "text/plain": [
       "'Writing...'"
      ]
     },
     "metadata": {},
     "output_type": "display_data"
    },
    {
     "data": {
      "text/plain": [
       "'Done.'"
      ]
     },
     "metadata": {},
     "output_type": "display_data"
    }
   ],
   "source": [
    "req_rows = 16384\n",
    "\n",
    "display('Re-training...')\n",
    "preds_dfs = []\n",
    "for feats, clf in zip(feats_to_try, clfs):\n",
    "    clf.fit(X[:, feats], y)\n",
    "    preds_dfs.append(pd.DataFrame(clf.predict_proba(X_ult[:, feats])[:, 1], \n",
    "                          index=list(range(req_rows, req_rows*2 + 1)), \n",
    "                          columns=['Y']))\n",
    "\n",
    "display('Writing...')\n",
    "for idx, df in enumerate(preds_dfs):\n",
    "    df.index.name = 'Id'\n",
    "    df.to_csv(f'submission_24_{idx}.csv')\n",
    "display('Done.')"
   ]
  },
  {
   "cell_type": "code",
   "execution_count": 173,
   "metadata": {},
   "outputs": [],
   "source": [
    "def ind_to_name(df, idx): return df.columns[idx].tolist()\n",
    "\n",
    "def generate_train(dataframe, model):\n",
    "    train_dataframe = dataframe.drop('Y', axis='columns')\n",
    "    labels = dataframe['Y']\n",
    "    \n",
    "    feature_ratings = model.fit(train_dataframe.values, labels).feature_importances_\n",
    "    first, second, third = get_best_ind(feature_ratings, 3, 1)[0]\n",
    "    first_name, second_name, third_name = indices_to_names(train_dataframe, [first, second, third])\n",
    "    \n",
    "    train_dataframe[first_name + '*1.5'] = train_dataframe[first_name] ** 1.5\n",
    "    train_dataframe[first_name + '*2'] = train_dataframe[first_name] ** 2\n",
    "    \n",
    "    relevant_columns = train_dataframe[[first_name, second_name, third_name]].values\n",
    "    scaled = StandardScaler().fit_transform(relevant_columns)\n",
    "    fused = PCA(n_components=1).fit_transform(scaled[:, 1:]).ravel()\n",
    "    \n",
    "    train_dataframe[first_name + '+fused'] = scaled[:, 0] + fused\n",
    "    train_dataframe[first_name + '-fused'] = scaled[:, 0] - fused\n",
    "    \n",
    "    return train_dataframe\n",
    "\n",
    "def alter_params(params, dec):\n",
    "    new_params = {}\n",
    "    new_params['n_estimators'] = [round(params['n_estimators'] + np.ceil(dec/5)), \n",
    "                                  params['n_estimators'],\n",
    "                                  round(params['n_estimators'] - np.ceil(dec/5))]\n",
    "    new_params['reg_alpha'] = [params['reg_alpha'] * (1 + (0.005 * dec)),\n",
    "                               params['reg_alpha'],\n",
    "                               params['reg_alpha'] * (1 - (0.005 * dec))]\n",
    "    new_params['reg_lambda'] = [params['reg_lambda'] + (0.001 * dec), \n",
    "                                params['reg_lambda'], \n",
    "                                params['reg_lambda'] - (0.001 * dec)]\n",
    "    return new_params\n",
    "\n",
    "results_dataframe = pd.DataFrame(columns=['score', 'params', 'features', 'dec'])\n",
    "\n",
    "const_params = {\n",
    "    'max_depth':                      5, \n",
    "    'learning_rate':                  0.1, \n",
    "    'objective':                      'binary:logistic', \n",
    "    'booster':                        'gbtree',\n",
    "    'tree_method':                    'exact', \n",
    "    'eval_metric':                    'auc',\n",
    "    'scale_pos_weight':               scale_pos_weight,\n",
    "    'n_jobs':                         -1\n",
    "}"
   ]
  },
  {
   "cell_type": "code",
   "execution_count": 174,
   "metadata": {},
   "outputs": [],
   "source": [
    "def tune_iteratively(params, dec):\n",
    "    if dec < 1:\n",
    "        return\n",
    "    \n",
    "    print(f'Variation decay factor {dec}.')\n",
    "    \n",
    "    print('Feature tuning...')\n",
    "    # new_train = generate_train(df, model)\n",
    "    new_train = df.drop('Y', axis='columns')\n",
    "    \n",
    "    old_model = xgb.XGBClassifier(**const_params, **params)\n",
    "    new_feats = ind_to_name(new_train, get_best_features(old_model, new_train.values))\n",
    "\n",
    "    variable_params = alter_params(params, dec)\n",
    "    print(variable_params)\n",
    "\n",
    "    print('Param tuning...')\n",
    "    grid = GridSearchCV(xgb.XGBClassifier(**const_params), \n",
    "                        variable_params, \n",
    "                        cv=StratifiedKFold(5), \n",
    "                        scoring='roc_auc', \n",
    "                        n_jobs=-1)\n",
    "\n",
    "    grid.fit(new_train[new_feats].values, y)\n",
    "\n",
    "    print(f'Best parameters {grid.best_params_}.')\n",
    "    print(f'Best auc score is {grid.best_score_}.')\n",
    "\n",
    "#     results_dataframe = results_dataframe.append({'score': grid.best_score_, \n",
    "#                                                   'params': grid.best_params_, \n",
    "#                                                   'features': new_feats, \n",
    "#                                                   'dec': dec}, ignore_index=True)\n",
    "#     results_dataframe.to_csv('results.csv')\n",
    "\n",
    "    with open('results.csv','a') as f:\n",
    "        f.write('\\n, '.join([str(dec), str(grid.best_score_), str(grid.best_params_), str(new_feats)]))\n",
    "\n",
    "    tune_iteratively(grid.best_params_, dec - 1)"
   ]
  },
  {
   "cell_type": "code",
   "execution_count": 175,
   "metadata": {},
   "outputs": [
    {
     "name": "stdout",
     "output_type": "stream",
     "text": [
      "Iteration 5.\n",
      "Feature tuning...\n",
      "{'n_estimators': [709.0, 708, 707.0], 'reg_alpha': [0.0006764999999999999, 0.00066, 0.0006435], 'reg_lambda': [0.805, 0.8, 0.795]}\n",
      "Param tuning...\n"
     ]
    },
    {
     "ename": "TypeError",
     "evalue": "'numpy.float64' object cannot be interpreted as an integer",
     "output_type": "error",
     "traceback": [
      "\u001b[0;31m---------------------------------------------------------------------------\u001b[0m",
      "\u001b[0;31m_RemoteTraceback\u001b[0m                          Traceback (most recent call last)",
      "\u001b[0;31m_RemoteTraceback\u001b[0m: \n\"\"\"\nTraceback (most recent call last):\n  File \"/home/abhivik/.local/lib/python3.6/site-packages/joblib/externals/loky/process_executor.py\", line 418, in _process_worker\n    r = call_item()\n  File \"/home/abhivik/.local/lib/python3.6/site-packages/joblib/externals/loky/process_executor.py\", line 272, in __call__\n    return self.fn(*self.args, **self.kwargs)\n  File \"/home/abhivik/.local/lib/python3.6/site-packages/joblib/_parallel_backends.py\", line 600, in __call__\n    return self.func(*args, **kwargs)\n  File \"/home/abhivik/.local/lib/python3.6/site-packages/joblib/parallel.py\", line 256, in __call__\n    for func, args, kwargs in self.items]\n  File \"/home/abhivik/.local/lib/python3.6/site-packages/joblib/parallel.py\", line 256, in <listcomp>\n    for func, args, kwargs in self.items]\n  File \"/home/abhivik/.local/lib/python3.6/site-packages/sklearn/model_selection/_validation.py\", line 516, in _fit_and_score\n    estimator.fit(X_train, y_train, **fit_params)\n  File \"/home/abhivik/.local/lib/python3.6/site-packages/xgboost/sklearn.py\", line 732, in fit\n    callbacks=callbacks)\n  File \"/home/abhivik/.local/lib/python3.6/site-packages/xgboost/training.py\", line 216, in train\n    xgb_model=xgb_model, callbacks=callbacks)\n  File \"/home/abhivik/.local/lib/python3.6/site-packages/xgboost/training.py\", line 62, in _train_internal\n    for i in range(start_iteration, num_boost_round):\nTypeError: 'numpy.float64' object cannot be interpreted as an integer\n\"\"\"",
      "\nThe above exception was the direct cause of the following exception:\n",
      "\u001b[0;31mTypeError\u001b[0m                                 Traceback (most recent call last)",
      "\u001b[0;32m<ipython-input-175-6a93b1b11ca5>\u001b[0m in \u001b[0;36m<module>\u001b[0;34m\u001b[0m\n\u001b[1;32m      1\u001b[0m tune_iteratively({'n_estimators': 708,\n\u001b[1;32m      2\u001b[0m                   \u001b[0;34m'reg_alpha'\u001b[0m\u001b[0;34m:\u001b[0m \u001b[0;36m0.00066\u001b[0m\u001b[0;34m,\u001b[0m\u001b[0;34m\u001b[0m\u001b[0;34m\u001b[0m\u001b[0m\n\u001b[0;32m----> 3\u001b[0;31m                   'reg_lambda': 0.8}, 5)\n\u001b[0m",
      "\u001b[0;32m<ipython-input-174-989b615c5677>\u001b[0m in \u001b[0;36mtune_iteratively\u001b[0;34m(params, dec)\u001b[0m\n\u001b[1;32m     22\u001b[0m                         n_jobs=-1)\n\u001b[1;32m     23\u001b[0m \u001b[0;34m\u001b[0m\u001b[0m\n\u001b[0;32m---> 24\u001b[0;31m     \u001b[0mgrid\u001b[0m\u001b[0;34m.\u001b[0m\u001b[0mfit\u001b[0m\u001b[0;34m(\u001b[0m\u001b[0mnew_train\u001b[0m\u001b[0;34m[\u001b[0m\u001b[0mnew_feats\u001b[0m\u001b[0;34m]\u001b[0m\u001b[0;34m.\u001b[0m\u001b[0mvalues\u001b[0m\u001b[0;34m,\u001b[0m \u001b[0my\u001b[0m\u001b[0;34m)\u001b[0m\u001b[0;34m\u001b[0m\u001b[0;34m\u001b[0m\u001b[0m\n\u001b[0m\u001b[1;32m     25\u001b[0m \u001b[0;34m\u001b[0m\u001b[0m\n\u001b[1;32m     26\u001b[0m     \u001b[0mprint\u001b[0m\u001b[0;34m(\u001b[0m\u001b[0;34mf'Best parameters {grid.best_params_}.'\u001b[0m\u001b[0;34m)\u001b[0m\u001b[0;34m\u001b[0m\u001b[0;34m\u001b[0m\u001b[0m\n",
      "\u001b[0;32m~/.local/lib/python3.6/site-packages/sklearn/model_selection/_search.py\u001b[0m in \u001b[0;36mfit\u001b[0;34m(self, X, y, groups, **fit_params)\u001b[0m\n\u001b[1;32m    686\u001b[0m                 \u001b[0;32mreturn\u001b[0m \u001b[0mresults\u001b[0m\u001b[0;34m\u001b[0m\u001b[0;34m\u001b[0m\u001b[0m\n\u001b[1;32m    687\u001b[0m \u001b[0;34m\u001b[0m\u001b[0m\n\u001b[0;32m--> 688\u001b[0;31m             \u001b[0mself\u001b[0m\u001b[0;34m.\u001b[0m\u001b[0m_run_search\u001b[0m\u001b[0;34m(\u001b[0m\u001b[0mevaluate_candidates\u001b[0m\u001b[0;34m)\u001b[0m\u001b[0;34m\u001b[0m\u001b[0;34m\u001b[0m\u001b[0m\n\u001b[0m\u001b[1;32m    689\u001b[0m \u001b[0;34m\u001b[0m\u001b[0m\n\u001b[1;32m    690\u001b[0m         \u001b[0;31m# For multi-metric evaluation, store the best_index_, best_params_ and\u001b[0m\u001b[0;34m\u001b[0m\u001b[0;34m\u001b[0m\u001b[0;34m\u001b[0m\u001b[0m\n",
      "\u001b[0;32m~/.local/lib/python3.6/site-packages/sklearn/model_selection/_search.py\u001b[0m in \u001b[0;36m_run_search\u001b[0;34m(self, evaluate_candidates)\u001b[0m\n\u001b[1;32m   1147\u001b[0m     \u001b[0;32mdef\u001b[0m \u001b[0m_run_search\u001b[0m\u001b[0;34m(\u001b[0m\u001b[0mself\u001b[0m\u001b[0;34m,\u001b[0m \u001b[0mevaluate_candidates\u001b[0m\u001b[0;34m)\u001b[0m\u001b[0;34m:\u001b[0m\u001b[0;34m\u001b[0m\u001b[0;34m\u001b[0m\u001b[0m\n\u001b[1;32m   1148\u001b[0m         \u001b[0;34m\"\"\"Search all candidates in param_grid\"\"\"\u001b[0m\u001b[0;34m\u001b[0m\u001b[0;34m\u001b[0m\u001b[0m\n\u001b[0;32m-> 1149\u001b[0;31m         \u001b[0mevaluate_candidates\u001b[0m\u001b[0;34m(\u001b[0m\u001b[0mParameterGrid\u001b[0m\u001b[0;34m(\u001b[0m\u001b[0mself\u001b[0m\u001b[0;34m.\u001b[0m\u001b[0mparam_grid\u001b[0m\u001b[0;34m)\u001b[0m\u001b[0;34m)\u001b[0m\u001b[0;34m\u001b[0m\u001b[0;34m\u001b[0m\u001b[0m\n\u001b[0m\u001b[1;32m   1150\u001b[0m \u001b[0;34m\u001b[0m\u001b[0m\n\u001b[1;32m   1151\u001b[0m \u001b[0;34m\u001b[0m\u001b[0m\n",
      "\u001b[0;32m~/.local/lib/python3.6/site-packages/sklearn/model_selection/_search.py\u001b[0m in \u001b[0;36mevaluate_candidates\u001b[0;34m(candidate_params)\u001b[0m\n\u001b[1;32m    665\u001b[0m                                \u001b[0;32mfor\u001b[0m \u001b[0mparameters\u001b[0m\u001b[0;34m,\u001b[0m \u001b[0;34m(\u001b[0m\u001b[0mtrain\u001b[0m\u001b[0;34m,\u001b[0m \u001b[0mtest\u001b[0m\u001b[0;34m)\u001b[0m\u001b[0;34m\u001b[0m\u001b[0;34m\u001b[0m\u001b[0m\n\u001b[1;32m    666\u001b[0m                                in product(candidate_params,\n\u001b[0;32m--> 667\u001b[0;31m                                           cv.split(X, y, groups)))\n\u001b[0m\u001b[1;32m    668\u001b[0m \u001b[0;34m\u001b[0m\u001b[0m\n\u001b[1;32m    669\u001b[0m                 \u001b[0;32mif\u001b[0m \u001b[0mlen\u001b[0m\u001b[0;34m(\u001b[0m\u001b[0mout\u001b[0m\u001b[0;34m)\u001b[0m \u001b[0;34m<\u001b[0m \u001b[0;36m1\u001b[0m\u001b[0;34m:\u001b[0m\u001b[0;34m\u001b[0m\u001b[0;34m\u001b[0m\u001b[0m\n",
      "\u001b[0;32m~/.local/lib/python3.6/site-packages/joblib/parallel.py\u001b[0m in \u001b[0;36m__call__\u001b[0;34m(self, iterable)\u001b[0m\n\u001b[1;32m   1014\u001b[0m \u001b[0;34m\u001b[0m\u001b[0m\n\u001b[1;32m   1015\u001b[0m             \u001b[0;32mwith\u001b[0m \u001b[0mself\u001b[0m\u001b[0;34m.\u001b[0m\u001b[0m_backend\u001b[0m\u001b[0;34m.\u001b[0m\u001b[0mretrieval_context\u001b[0m\u001b[0;34m(\u001b[0m\u001b[0;34m)\u001b[0m\u001b[0;34m:\u001b[0m\u001b[0;34m\u001b[0m\u001b[0;34m\u001b[0m\u001b[0m\n\u001b[0;32m-> 1016\u001b[0;31m                 \u001b[0mself\u001b[0m\u001b[0;34m.\u001b[0m\u001b[0mretrieve\u001b[0m\u001b[0;34m(\u001b[0m\u001b[0;34m)\u001b[0m\u001b[0;34m\u001b[0m\u001b[0;34m\u001b[0m\u001b[0m\n\u001b[0m\u001b[1;32m   1017\u001b[0m             \u001b[0;31m# Make sure that we get a last message telling us we are done\u001b[0m\u001b[0;34m\u001b[0m\u001b[0;34m\u001b[0m\u001b[0;34m\u001b[0m\u001b[0m\n\u001b[1;32m   1018\u001b[0m             \u001b[0melapsed_time\u001b[0m \u001b[0;34m=\u001b[0m \u001b[0mtime\u001b[0m\u001b[0;34m.\u001b[0m\u001b[0mtime\u001b[0m\u001b[0;34m(\u001b[0m\u001b[0;34m)\u001b[0m \u001b[0;34m-\u001b[0m \u001b[0mself\u001b[0m\u001b[0;34m.\u001b[0m\u001b[0m_start_time\u001b[0m\u001b[0;34m\u001b[0m\u001b[0;34m\u001b[0m\u001b[0m\n",
      "\u001b[0;32m~/.local/lib/python3.6/site-packages/joblib/parallel.py\u001b[0m in \u001b[0;36mretrieve\u001b[0;34m(self)\u001b[0m\n\u001b[1;32m    906\u001b[0m             \u001b[0;32mtry\u001b[0m\u001b[0;34m:\u001b[0m\u001b[0;34m\u001b[0m\u001b[0;34m\u001b[0m\u001b[0m\n\u001b[1;32m    907\u001b[0m                 \u001b[0;32mif\u001b[0m \u001b[0mgetattr\u001b[0m\u001b[0;34m(\u001b[0m\u001b[0mself\u001b[0m\u001b[0;34m.\u001b[0m\u001b[0m_backend\u001b[0m\u001b[0;34m,\u001b[0m \u001b[0;34m'supports_timeout'\u001b[0m\u001b[0;34m,\u001b[0m \u001b[0;32mFalse\u001b[0m\u001b[0;34m)\u001b[0m\u001b[0;34m:\u001b[0m\u001b[0;34m\u001b[0m\u001b[0;34m\u001b[0m\u001b[0m\n\u001b[0;32m--> 908\u001b[0;31m                     \u001b[0mself\u001b[0m\u001b[0;34m.\u001b[0m\u001b[0m_output\u001b[0m\u001b[0;34m.\u001b[0m\u001b[0mextend\u001b[0m\u001b[0;34m(\u001b[0m\u001b[0mjob\u001b[0m\u001b[0;34m.\u001b[0m\u001b[0mget\u001b[0m\u001b[0;34m(\u001b[0m\u001b[0mtimeout\u001b[0m\u001b[0;34m=\u001b[0m\u001b[0mself\u001b[0m\u001b[0;34m.\u001b[0m\u001b[0mtimeout\u001b[0m\u001b[0;34m)\u001b[0m\u001b[0;34m)\u001b[0m\u001b[0;34m\u001b[0m\u001b[0;34m\u001b[0m\u001b[0m\n\u001b[0m\u001b[1;32m    909\u001b[0m                 \u001b[0;32melse\u001b[0m\u001b[0;34m:\u001b[0m\u001b[0;34m\u001b[0m\u001b[0;34m\u001b[0m\u001b[0m\n\u001b[1;32m    910\u001b[0m                     \u001b[0mself\u001b[0m\u001b[0;34m.\u001b[0m\u001b[0m_output\u001b[0m\u001b[0;34m.\u001b[0m\u001b[0mextend\u001b[0m\u001b[0;34m(\u001b[0m\u001b[0mjob\u001b[0m\u001b[0;34m.\u001b[0m\u001b[0mget\u001b[0m\u001b[0;34m(\u001b[0m\u001b[0;34m)\u001b[0m\u001b[0;34m)\u001b[0m\u001b[0;34m\u001b[0m\u001b[0;34m\u001b[0m\u001b[0m\n",
      "\u001b[0;32m~/.local/lib/python3.6/site-packages/joblib/_parallel_backends.py\u001b[0m in \u001b[0;36mwrap_future_result\u001b[0;34m(future, timeout)\u001b[0m\n\u001b[1;32m    552\u001b[0m         AsyncResults.get from multiprocessing.\"\"\"\n\u001b[1;32m    553\u001b[0m         \u001b[0;32mtry\u001b[0m\u001b[0;34m:\u001b[0m\u001b[0;34m\u001b[0m\u001b[0;34m\u001b[0m\u001b[0m\n\u001b[0;32m--> 554\u001b[0;31m             \u001b[0;32mreturn\u001b[0m \u001b[0mfuture\u001b[0m\u001b[0;34m.\u001b[0m\u001b[0mresult\u001b[0m\u001b[0;34m(\u001b[0m\u001b[0mtimeout\u001b[0m\u001b[0;34m=\u001b[0m\u001b[0mtimeout\u001b[0m\u001b[0;34m)\u001b[0m\u001b[0;34m\u001b[0m\u001b[0;34m\u001b[0m\u001b[0m\n\u001b[0m\u001b[1;32m    555\u001b[0m         \u001b[0;32mexcept\u001b[0m \u001b[0mLokyTimeoutError\u001b[0m\u001b[0;34m:\u001b[0m\u001b[0;34m\u001b[0m\u001b[0;34m\u001b[0m\u001b[0m\n\u001b[1;32m    556\u001b[0m             \u001b[0;32mraise\u001b[0m \u001b[0mTimeoutError\u001b[0m\u001b[0;34m(\u001b[0m\u001b[0;34m)\u001b[0m\u001b[0;34m\u001b[0m\u001b[0;34m\u001b[0m\u001b[0m\n",
      "\u001b[0;32m/usr/lib/python3.6/concurrent/futures/_base.py\u001b[0m in \u001b[0;36mresult\u001b[0;34m(self, timeout)\u001b[0m\n\u001b[1;32m    430\u001b[0m                 \u001b[0;32mraise\u001b[0m \u001b[0mCancelledError\u001b[0m\u001b[0;34m(\u001b[0m\u001b[0;34m)\u001b[0m\u001b[0;34m\u001b[0m\u001b[0;34m\u001b[0m\u001b[0m\n\u001b[1;32m    431\u001b[0m             \u001b[0;32melif\u001b[0m \u001b[0mself\u001b[0m\u001b[0;34m.\u001b[0m\u001b[0m_state\u001b[0m \u001b[0;34m==\u001b[0m \u001b[0mFINISHED\u001b[0m\u001b[0;34m:\u001b[0m\u001b[0;34m\u001b[0m\u001b[0;34m\u001b[0m\u001b[0m\n\u001b[0;32m--> 432\u001b[0;31m                 \u001b[0;32mreturn\u001b[0m \u001b[0mself\u001b[0m\u001b[0;34m.\u001b[0m\u001b[0m__get_result\u001b[0m\u001b[0;34m(\u001b[0m\u001b[0;34m)\u001b[0m\u001b[0;34m\u001b[0m\u001b[0;34m\u001b[0m\u001b[0m\n\u001b[0m\u001b[1;32m    433\u001b[0m             \u001b[0;32melse\u001b[0m\u001b[0;34m:\u001b[0m\u001b[0;34m\u001b[0m\u001b[0;34m\u001b[0m\u001b[0m\n\u001b[1;32m    434\u001b[0m                 \u001b[0;32mraise\u001b[0m \u001b[0mTimeoutError\u001b[0m\u001b[0;34m(\u001b[0m\u001b[0;34m)\u001b[0m\u001b[0;34m\u001b[0m\u001b[0;34m\u001b[0m\u001b[0m\n",
      "\u001b[0;32m/usr/lib/python3.6/concurrent/futures/_base.py\u001b[0m in \u001b[0;36m__get_result\u001b[0;34m(self)\u001b[0m\n\u001b[1;32m    382\u001b[0m     \u001b[0;32mdef\u001b[0m \u001b[0m__get_result\u001b[0m\u001b[0;34m(\u001b[0m\u001b[0mself\u001b[0m\u001b[0;34m)\u001b[0m\u001b[0;34m:\u001b[0m\u001b[0;34m\u001b[0m\u001b[0;34m\u001b[0m\u001b[0m\n\u001b[1;32m    383\u001b[0m         \u001b[0;32mif\u001b[0m \u001b[0mself\u001b[0m\u001b[0;34m.\u001b[0m\u001b[0m_exception\u001b[0m\u001b[0;34m:\u001b[0m\u001b[0;34m\u001b[0m\u001b[0;34m\u001b[0m\u001b[0m\n\u001b[0;32m--> 384\u001b[0;31m             \u001b[0;32mraise\u001b[0m \u001b[0mself\u001b[0m\u001b[0;34m.\u001b[0m\u001b[0m_exception\u001b[0m\u001b[0;34m\u001b[0m\u001b[0;34m\u001b[0m\u001b[0m\n\u001b[0m\u001b[1;32m    385\u001b[0m         \u001b[0;32melse\u001b[0m\u001b[0;34m:\u001b[0m\u001b[0;34m\u001b[0m\u001b[0;34m\u001b[0m\u001b[0m\n\u001b[1;32m    386\u001b[0m             \u001b[0;32mreturn\u001b[0m \u001b[0mself\u001b[0m\u001b[0;34m.\u001b[0m\u001b[0m_result\u001b[0m\u001b[0;34m\u001b[0m\u001b[0;34m\u001b[0m\u001b[0m\n",
      "\u001b[0;31mTypeError\u001b[0m: 'numpy.float64' object cannot be interpreted as an integer"
     ]
    }
   ],
   "source": [
    "tune_iteratively({'n_estimators': 708,\n",
    "                  'reg_alpha': 0.00066, \n",
    "                  'reg_lambda': 0.8}, 5)"
   ]
  },
  {
   "cell_type": "code",
   "execution_count": null,
   "metadata": {},
   "outputs": [],
   "source": []
  }
 ],
 "metadata": {
  "kernelspec": {
   "display_name": "Python 3",
   "language": "python",
   "name": "python3"
  },
  "language_info": {
   "codemirror_mode": {
    "name": "ipython",
    "version": 3
   },
   "file_extension": ".py",
   "mimetype": "text/x-python",
   "name": "python",
   "nbconvert_exporter": "python",
   "pygments_lexer": "ipython3",
   "version": "3.6.8"
  }
 },
 "nbformat": 4,
 "nbformat_minor": 2
}
