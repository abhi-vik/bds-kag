{
 "cells": [
  {
   "cell_type": "code",
   "execution_count": 46,
   "metadata": {},
   "outputs": [],
   "source": [
    "import numpy as np\n",
    "import pandas as pd\n",
    "import seaborn as sns\n",
    "\n",
    "from sklearn.linear_model import LogisticRegression\n",
    "from sklearn.metrics import roc_auc_score, precision_score, recall_score, f1_score\n",
    "from sklearn.feature_selection import RFECV\n",
    "from sklearn.model_selection import RandomizedSearchCV, GridSearchCV, StratifiedKFold, train_test_split\n",
    "from sklearn.decomposition import PCA\n",
    "from sklearn.ensemble import RandomForestClassifier, ExtraTreesClassifier, GradientBoostingClassifier, AdaBoostClassifier\n",
    "from sklearn.svm import LinearSVC\n",
    "\n",
    "import lightgbm as lgbm\n",
    "import xgboost as xgb\n",
    "\n",
    "from imblearn.over_sampling import SMOTE\n",
    "\n",
    "from IPython.display import display"
   ]
  },
  {
   "cell_type": "code",
   "execution_count": 14,
   "metadata": {},
   "outputs": [],
   "source": [
    "df = pd.read_csv('data/train_final.csv', index_col='Id')\n",
    "df_ult = pd.read_csv('data/test_final.csv', index_col='Id')\n",
    "\n",
    "X = df.drop('Y', axis='columns').values\n",
    "y = df['Y'].values\n",
    "\n",
    "X_ult = df_ult.values\n",
    "\n",
    "scale_pos_weight = len(y[y == 0])/len(y[y == 1])"
   ]
  },
  {
   "cell_type": "code",
   "execution_count": 13,
   "metadata": {},
   "outputs": [],
   "source": [
    "skfold = StratifiedKFold(5, shuffle=True, random_state=0)"
   ]
  },
  {
   "cell_type": "code",
   "execution_count": 11,
   "metadata": {},
   "outputs": [],
   "source": [
    "def transform(df, y=True):\n",
    "    df_copy = df.copy()\n",
    "    df_copy['f8-f19'] = df['f8'] - df['f19']\n",
    "    df_copy['f8-f13'] = df['f8'] - df['f13']\n",
    "    df_copy['f17-f4'] = df['f17'] - df['f4']\n",
    "    df_copy['f4-f7'] = df['f4'] - df['f7']\n",
    "    df_copy['f13-f19'] = df['f13'] - df['f19']\n",
    "    df_copy['f8wf13wf19'] = PCA(n_components=1).fit_transform(df[['f8', 'f13', 'f19']])\n",
    "    return df_copy.drop('Y', axis='columns') if y else df_copy\n",
    "\n",
    "selected_cols = ['f14', 'f13', 'f15', 'f4', 'f8wf13wf19', 'f4-f7', 'f16', 'f17', 'f19', 'f1', 'f8-f19']"
   ]
  },
  {
   "cell_type": "code",
   "execution_count": 18,
   "metadata": {},
   "outputs": [],
   "source": [
    "def log_reg(cols):\n",
    "    base_param = {\n",
    "        'C': [0.01, 0.1, 1, 10, 100, 1000],\n",
    "        'tol': [1e-2, 1e-3, 1e-4, 1e-5],\n",
    "        'class_weight': ['balanced']\n",
    "    }\n",
    "\n",
    "    tune_param = [{\n",
    "        'penalty': ['l2'], \n",
    "        'solver': ['newton-cg', 'sag', 'lbfgs']\n",
    "    }, {\n",
    "        'penalty': ['elasticnet'],\n",
    "        'solver': ['saga'],\n",
    "        'l1_ratio': [0.1, 0.25, 0.5, 0.75, 0.9]\n",
    "    }, {\n",
    "        'penalty': ['l2'],\n",
    "        'solver': ['liblinear', 'saga']\n",
    "    }]\n",
    "\n",
    "    [param.update(base_param) for param in tune_param]\n",
    "\n",
    "    grid = GridSearchCV(LogisticRegression(), tune_param, cv=skfold, scoring='roc_auc', n_jobs=-1)\n",
    "\n",
    "    grid.fit(transform(df)[cols].values, y)\n",
    "\n",
    "    print(f'Best parameters {grid.best_params_}.')\n",
    "    print(f'Best auc score is {grid.best_score_}.')\n",
    "    \n",
    "    return grid.best_estimator_"
   ]
  },
  {
   "cell_type": "code",
   "execution_count": 8,
   "metadata": {},
   "outputs": [],
   "source": [
    "def ext_tre(cols):\n",
    "    tune_param = {\n",
    "        'n_estimators': [100, 500, 1000],\n",
    "        'criterion': ['gini', 'entropy'],\n",
    "        'max_depth': [5, None],\n",
    "        'class_weight': ['balanced'],\n",
    "        'random_state': [0],\n",
    "        'n_jobs': [-1]\n",
    "    }\n",
    "\n",
    "    grid = GridSearchCV(ExtraTreesClassifier(), tune_param, cv=skfold, scoring='roc_auc', n_jobs=-1)\n",
    "\n",
    "    grid.fit(transform(df)[cols].values, y)\n",
    "\n",
    "    print(f'Best parameters {grid.best_params_}.')\n",
    "    print(f'Best auc score is {grid.best_score_}.')\n",
    "    \n",
    "    return grid.best_estimator_"
   ]
  },
  {
   "cell_type": "code",
   "execution_count": 16,
   "metadata": {},
   "outputs": [],
   "source": [
    "def rdm_for(cols):\n",
    "    tune_param = {\n",
    "        'n_estimators': [1000],\n",
    "        'criterion': ['gini', 'entropy'],\n",
    "        'max_depth': [None],\n",
    "        'class_weight': ['balanced'],\n",
    "        'random_state': [0],\n",
    "        'n_jobs': [-1]\n",
    "    }\n",
    "\n",
    "    grid = GridSearchCV(RandomForestClassifier(), tune_param, cv=skfold, scoring='roc_auc', n_jobs=-1)\n",
    "\n",
    "    grid.fit(transform(df)[cols].values, y)\n",
    "\n",
    "    print(f'Best parameters {grid.best_params_}.')\n",
    "    print(f'Best auc score is {grid.best_score_}.')\n",
    "    \n",
    "    return grid.best_estimator_"
   ]
  },
  {
   "cell_type": "code",
   "execution_count": 42,
   "metadata": {},
   "outputs": [],
   "source": [
    "def lin_svc(cols):\n",
    "    tune_param = {\n",
    "        'tol': [0.0001, 0.00001, 0.001], \n",
    "        'C': [1.0, 0.1, 10, 0.01, 100], \n",
    "        'random_state': [0], \n",
    "        'max_iter': [500, 1000]\n",
    "    }\n",
    "\n",
    "    grid = GridSearchCV(LinearSVC(), tune_param, cv=skfold, scoring='roc_auc', n_jobs=-1)\n",
    "\n",
    "    grid.fit(transform(df)[cols].values, y)\n",
    "\n",
    "    print(f'Best parameters {grid.best_params_}.')\n",
    "    print(f'Best auc score is {grid.best_score_}.')\n",
    "    \n",
    "    return grid.best_estimator_"
   ]
  },
  {
   "cell_type": "code",
   "execution_count": 43,
   "metadata": {},
   "outputs": [
    {
     "name": "stdout",
     "output_type": "stream",
     "text": [
      "Best parameters {'C': 1.0, 'max_iter': 1000, 'random_state': 0, 'tol': 0.0001}.\n",
      "Best auc score is 0.5058158020272084.\n"
     ]
    },
    {
     "name": "stderr",
     "output_type": "stream",
     "text": [
      "/home/abhivik/.local/lib/python3.6/site-packages/sklearn/svm/base.py:929: ConvergenceWarning: Liblinear failed to converge, increase the number of iterations.\n",
      "  \"the number of iterations.\", ConvergenceWarning)\n"
     ]
    }
   ],
   "source": [
    "lin_csv_sel = lin_svc(selected_cols)"
   ]
  },
  {
   "cell_type": "code",
   "execution_count": 52,
   "metadata": {},
   "outputs": [],
   "source": [
    "def gra_bst(cols):\n",
    "    tune_param = {\n",
    "        'n_estimators': [500, 1000],\n",
    "        'loss' : ['deviance', 'exponential'],\n",
    "        'max_depth': [5, None],\n",
    "#         'class_weight': ['balanced'],\n",
    "        'random_state': [0],\n",
    "    }\n",
    "\n",
    "    grid = GridSearchCV(GradientBoostingClassifier(), tune_param, cv=skfold, scoring='roc_auc', n_jobs=-1)\n",
    "\n",
    "    grid.fit(transform(df)[cols].values, y)\n",
    "\n",
    "    print(f'Best parameters {grid.best_params_}.')\n",
    "    print(f'Best auc score is {grid.best_score_}.')\n",
    "    \n",
    "    return grid.best_estimator_"
   ]
  },
  {
   "cell_type": "code",
   "execution_count": 56,
   "metadata": {},
   "outputs": [],
   "source": [
    "def aba_bst(cols):\n",
    "    tune_param = {\n",
    "        'n_estimators': [100, 500, 1000],\n",
    "        'learning_rate': [0.1, 1],\n",
    "        'random_state': [0],\n",
    "    }\n",
    "\n",
    "    grid = GridSearchCV(AdaBoostClassifier(), tune_param, cv=skfold, scoring='roc_auc', n_jobs=-1)\n",
    "\n",
    "    grid.fit(transform(df)[cols].values, y)\n",
    "\n",
    "    print(f'Best parameters {grid.best_params_}.')\n",
    "    print(f'Best auc score is {grid.best_score_}.')\n",
    "    \n",
    "    return grid.best_estimator_"
   ]
  },
  {
   "cell_type": "code",
   "execution_count": 57,
   "metadata": {},
   "outputs": [
    {
     "name": "stdout",
     "output_type": "stream",
     "text": [
      "Best parameters {'learning_rate': 1, 'n_estimators': 1000, 'random_state': 0}.\n",
      "Best auc score is 0.8560549273161631.\n"
     ]
    }
   ],
   "source": [
    "aba_bst_sel = aba_bst(selected_cols)"
   ]
  },
  {
   "cell_type": "code",
   "execution_count": 53,
   "metadata": {},
   "outputs": [
    {
     "name": "stdout",
     "output_type": "stream",
     "text": [
      "Best parameters {'loss': 'exponential', 'max_depth': 5, 'n_estimators': 500, 'random_state': 0}.\n",
      "Best auc score is 0.8796743696046784.\n"
     ]
    }
   ],
   "source": [
    "gra_bst_sel = gra_bst(selected_cols)"
   ]
  },
  {
   "cell_type": "code",
   "execution_count": 15,
   "metadata": {},
   "outputs": [
    {
     "name": "stdout",
     "output_type": "stream",
     "text": [
      "Best parameters {'class_weight': 'balanced', 'criterion': 'entropy', 'max_depth': None, 'n_estimators': 1000, 'n_jobs': -1, 'random_state': 0}.\n",
      "Best auc score is 0.8640559016418421.\n"
     ]
    }
   ],
   "source": [
    "ext_tre_sel = ext_tre(selected_cols)"
   ]
  },
  {
   "cell_type": "code",
   "execution_count": 27,
   "metadata": {},
   "outputs": [
    {
     "name": "stdout",
     "output_type": "stream",
     "text": [
      "Best parameters {'class_weight': 'balanced', 'criterion': 'gini', 'max_depth': None, 'n_estimators': 1000, 'n_jobs': -1, 'random_state': 0}.\n",
      "Best auc score is 0.8824712258965254.\n"
     ]
    }
   ],
   "source": [
    "rdm_for_sel = rdm_for(selected_cols)"
   ]
  },
  {
   "cell_type": "code",
   "execution_count": 30,
   "metadata": {},
   "outputs": [
    {
     "name": "stdout",
     "output_type": "stream",
     "text": [
      "Best parameters {'class_weight': 'balanced', 'criterion': 'entropy', 'max_depth': None, 'n_estimators': 1000, 'n_jobs': -1, 'random_state': 0}.\n",
      "Best auc score is 0.6443147506530321.\n"
     ]
    }
   ],
   "source": [
    "rdm_for_0t6 = rdm_for(['f1', 'f2', 'f3', 'f4', 'f5', 'f6'])"
   ]
  },
  {
   "cell_type": "code",
   "execution_count": 34,
   "metadata": {},
   "outputs": [
    {
     "name": "stdout",
     "output_type": "stream",
     "text": [
      "Best parameters {'class_weight': 'balanced', 'criterion': 'entropy', 'max_depth': None, 'n_estimators': 1000, 'n_jobs': -1, 'random_state': 0}.\n",
      "Best auc score is 0.6274706873751901.\n"
     ]
    }
   ],
   "source": [
    "rdm_for_7t12 = rdm_for(['f7', 'f8', 'f9', 'f10', 'f11', 'f12'])"
   ]
  },
  {
   "cell_type": "code",
   "execution_count": 35,
   "metadata": {},
   "outputs": [
    {
     "name": "stdout",
     "output_type": "stream",
     "text": [
      "Best parameters {'class_weight': 'balanced', 'criterion': 'entropy', 'max_depth': None, 'n_estimators': 1000, 'n_jobs': -1, 'random_state': 0}.\n",
      "Best auc score is 0.8519775508449846.\n"
     ]
    }
   ],
   "source": [
    "rdm_for_13t18 = rdm_for(['f13', 'f14', 'f15', 'f16', 'f17', 'f18'])"
   ]
  },
  {
   "cell_type": "code",
   "execution_count": 40,
   "metadata": {},
   "outputs": [
    {
     "name": "stdout",
     "output_type": "stream",
     "text": [
      "Best parameters {'class_weight': 'balanced', 'criterion': 'entropy', 'max_depth': None, 'n_estimators': 1000, 'n_jobs': -1, 'random_state': 0}.\n",
      "Best auc score is 0.5741570859334137.\n"
     ]
    }
   ],
   "source": [
    "rdm_for_19t24 = rdm_for(['f19', 'f20', 'f21', 'f22', 'f23', 'f24'])"
   ]
  },
  {
   "cell_type": "code",
   "execution_count": 39,
   "metadata": {},
   "outputs": [
    {
     "name": "stdout",
     "output_type": "stream",
     "text": [
      "Best parameters {'class_weight': 'balanced', 'criterion': 'gini', 'max_depth': None, 'n_estimators': 1000, 'n_jobs': -1, 'random_state': 0}.\n",
      "Best auc score is 0.7703803960532711.\n"
     ]
    }
   ],
   "source": [
    "rdm_for_synth = rdm_for(['f8-f19', 'f8-f13', 'f17-f4', 'f4-f7', 'f13-f19', 'f8wf13wf19'])"
   ]
  },
  {
   "cell_type": "code",
   "execution_count": 19,
   "metadata": {},
   "outputs": [
    {
     "name": "stdout",
     "output_type": "stream",
     "text": [
      "Best parameters {'C': 100, 'class_weight': 'balanced', 'penalty': 'l2', 'solver': 'newton-cg', 'tol': 0.01}.\n",
      "Best auc score is 0.5513333054965867.\n"
     ]
    }
   ],
   "source": [
    "log_reg_sel = log_reg(selected_cols)"
   ]
  },
  {
   "cell_type": "code",
   "execution_count": 27,
   "metadata": {},
   "outputs": [
    {
     "name": "stdout",
     "output_type": "stream",
     "text": [
      "(13106, 30)\n"
     ]
    }
   ],
   "source": [
    "train = []\n",
    "test = []\n",
    "custom_df = transform(df)\n",
    "X1 = custom_df.values\n",
    "for train_idx, _ in skfold.split(X1, y):\n",
    "    train.append(X1[train_idx])\n",
    "    test.append(y[train_idx])\n",
    "    \n",
    "print(np.array(train)[0].shape)\n",
    "\n",
    "train_df = pd.DataFrame(columns=custom_df.columns.tolist())\n",
    "train_df"
   ]
  },
  {
   "cell_type": "code",
   "execution_count": 38,
   "metadata": {},
   "outputs": [
    {
     "data": {
      "text/plain": [
       "(65532, 30)"
      ]
     },
     "execution_count": 38,
     "metadata": {},
     "output_type": "execute_result"
    }
   ],
   "source": [
    "from functools import reduce\n",
    "temp = np.array(train)\n",
    "reduce(lambda x, y: np.append(x, y, axis=0), temp).shape"
   ]
  },
  {
   "cell_type": "code",
   "execution_count": 39,
   "metadata": {},
   "outputs": [
    {
     "data": {
      "text/plain": [
       "(16383, 25)"
      ]
     },
     "execution_count": 39,
     "metadata": {},
     "output_type": "execute_result"
    }
   ],
   "source": [
    "df.shape"
   ]
  },
  {
   "cell_type": "code",
   "execution_count": 21,
   "metadata": {},
   "outputs": [
    {
     "data": {
      "text/html": [
       "<div>\n",
       "<style scoped>\n",
       "    .dataframe tbody tr th:only-of-type {\n",
       "        vertical-align: middle;\n",
       "    }\n",
       "\n",
       "    .dataframe tbody tr th {\n",
       "        vertical-align: top;\n",
       "    }\n",
       "\n",
       "    .dataframe thead th {\n",
       "        text-align: right;\n",
       "    }\n",
       "</style>\n",
       "<table border=\"1\" class=\"dataframe\">\n",
       "  <thead>\n",
       "    <tr style=\"text-align: right;\">\n",
       "      <th></th>\n",
       "      <th>f1</th>\n",
       "      <th>f2</th>\n",
       "    </tr>\n",
       "    <tr>\n",
       "      <th>Id</th>\n",
       "      <th></th>\n",
       "      <th></th>\n",
       "    </tr>\n",
       "  </thead>\n",
       "  <tbody>\n",
       "    <tr>\n",
       "      <th>1</th>\n",
       "      <td>25884</td>\n",
       "      <td>1</td>\n",
       "    </tr>\n",
       "    <tr>\n",
       "      <th>2</th>\n",
       "      <td>34346</td>\n",
       "      <td>1</td>\n",
       "    </tr>\n",
       "    <tr>\n",
       "      <th>3</th>\n",
       "      <td>34923</td>\n",
       "      <td>1</td>\n",
       "    </tr>\n",
       "    <tr>\n",
       "      <th>4</th>\n",
       "      <td>80926</td>\n",
       "      <td>1</td>\n",
       "    </tr>\n",
       "    <tr>\n",
       "      <th>5</th>\n",
       "      <td>4674</td>\n",
       "      <td>1</td>\n",
       "    </tr>\n",
       "    <tr>\n",
       "      <th>...</th>\n",
       "      <td>...</td>\n",
       "      <td>...</td>\n",
       "    </tr>\n",
       "    <tr>\n",
       "      <th>16379</th>\n",
       "      <td>33328</td>\n",
       "      <td>1</td>\n",
       "    </tr>\n",
       "    <tr>\n",
       "      <th>16380</th>\n",
       "      <td>19944</td>\n",
       "      <td>1</td>\n",
       "    </tr>\n",
       "    <tr>\n",
       "      <th>16381</th>\n",
       "      <td>28359</td>\n",
       "      <td>1</td>\n",
       "    </tr>\n",
       "    <tr>\n",
       "      <th>16382</th>\n",
       "      <td>7542</td>\n",
       "      <td>1</td>\n",
       "    </tr>\n",
       "    <tr>\n",
       "      <th>16383</th>\n",
       "      <td>13877</td>\n",
       "      <td>1</td>\n",
       "    </tr>\n",
       "  </tbody>\n",
       "</table>\n",
       "<p>16383 rows × 2 columns</p>\n",
       "</div>"
      ],
      "text/plain": [
       "          f1  f2\n",
       "Id              \n",
       "1      25884   1\n",
       "2      34346   1\n",
       "3      34923   1\n",
       "4      80926   1\n",
       "5       4674   1\n",
       "...      ...  ..\n",
       "16379  33328   1\n",
       "16380  19944   1\n",
       "16381  28359   1\n",
       "16382   7542   1\n",
       "16383  13877   1\n",
       "\n",
       "[16383 rows x 2 columns]"
      ]
     },
     "execution_count": 21,
     "metadata": {},
     "output_type": "execute_result"
    }
   ],
   "source": [
    "transform(df).iloc[:, [0,1]]"
   ]
  },
  {
   "cell_type": "code",
   "execution_count": 42,
   "metadata": {},
   "outputs": [
    {
     "name": "stderr",
     "output_type": "stream",
     "text": [
      "/home/abhivik/.local/lib/python3.6/site-packages/scipy/optimize/linesearch.py:426: LineSearchWarning: Rounding errors prevent the line search from converging\n",
      "  warn(msg, LineSearchWarning)\n",
      "/home/abhivik/.local/lib/python3.6/site-packages/scipy/optimize/linesearch.py:314: LineSearchWarning: The line search algorithm did not converge\n",
      "  warn('The line search algorithm did not converge', LineSearchWarning)\n",
      "/home/abhivik/.local/lib/python3.6/site-packages/sklearn/utils/optimize.py:195: UserWarning: Line Search failed\n",
      "  warnings.warn('Line Search failed')\n"
     ]
    }
   ],
   "source": [
    "def full_train(clf, cols): return clf.fit(transform(df)[cols].values, y)\n",
    "\n",
    "full_train(log_reg_sel, selected_cols)\n",
    "full_train(rdm_for_sel, selected_cols)\n",
    "full_train(rdm_for_0t6, ['f1', 'f2', 'f3', 'f4', 'f5', 'f6'])\n",
    "full_train(rdm_for_7t12, ['f7', 'f8', 'f9', 'f10', 'f11', 'f12'])\n",
    "full_train(rdm_for_13t18, ['f13', 'f14', 'f15', 'f16', 'f17', 'f18'])\n",
    "full_train(rdm_for_19t24, ['f19', 'f20', 'f21', 'f22', 'f23', 'f24'])\n",
    "full_train(rdm_for_synth, ['f8-f19', 'f8-f13', 'f17-f4', 'f4-f7', 'f13-f19', 'f8wf13wf19']);"
   ]
  },
  {
   "cell_type": "code",
   "execution_count": 44,
   "metadata": {},
   "outputs": [],
   "source": [
    "def pred_prob(clf, df, cols): return clf.predict_proba(transform(df)[cols].values)[:, 1]\n",
    "\n",
    "log_pred = pred_prob(log_reg_sel, df, selected_cols)\n",
    "rdm_sel_pred = pred_prob(rdm_for_sel, df, selected_cols)\n",
    "rdm_0t6_pred = pred_prob(rdm_for_0t6, df, ['f1', 'f2', 'f3', 'f4', 'f5', 'f6'])\n",
    "rdm_7t12_pred = pred_prob(rdm_for_7t12, df, ['f7', 'f8', 'f9', 'f10', 'f11', 'f12'])\n",
    "rdm_13t18_pred = pred_prob(rdm_for_13t18, df, ['f13', 'f14', 'f15', 'f16', 'f17', 'f18'])\n",
    "rdm_19t24_pred = pred_prob(rdm_for_19t24, df, ['f19', 'f20', 'f21', 'f22', 'f23', 'f24'])\n",
    "rdm_synth_pred = pred_prob(rdm_for_synth, df, ['f8-f19', 'f8-f13', 'f17-f4', 'f4-f7', 'f13-f19', 'f8wf13wf19'])"
   ]
  },
  {
   "cell_type": "code",
   "execution_count": 50,
   "metadata": {},
   "outputs": [],
   "source": [
    "temp = transform(df)\n",
    "\n",
    "X2 = np.array([log_pred, \n",
    "               rdm_sel_pred, \n",
    "               rdm_0t6_pred, \n",
    "               rdm_7t12_pred, \n",
    "               rdm_13t18_pred, \n",
    "               rdm_19t24_pred, \n",
    "               rdm_synth_pred, \n",
    "               temp['f14'], \n",
    "               temp['f13'], \n",
    "               temp['f15'], \n",
    "               temp['f4'], \n",
    "               temp['f8wf13wf19']]).T"
   ]
  },
  {
   "cell_type": "code",
   "execution_count": 74,
   "metadata": {},
   "outputs": [
    {
     "name": "stdout",
     "output_type": "stream",
     "text": [
      "Best parameters {'colsample_bytree': 0.01, 'learning_rate': 0.1, 'n_estimators': 1000, 'reg_alpha': 0, 'reg_lambda': 0.89995}.\n",
      "Best auc score is 1.0.\n"
     ]
    }
   ],
   "source": [
    "fix_param = {\n",
    "    'boosting_type':                 'goss', \n",
    "    'metric':                        'auc', \n",
    "    'objective':                     'binary', \n",
    "    'scale_pos_weight':              scale_pos_weight, \n",
    "    'n_jobs':                        -1, \n",
    "#     'seed': 75\n",
    "}\n",
    "\n",
    "now_param = {\n",
    "    'n_estimators':                  [1000], \n",
    "    'learning_rate':                 [0.1], \n",
    "#     'min_child_weight':              [1e-3, 1e-9], \n",
    "#     'min_split_gain':                [6e-6], \n",
    "    'colsample_bytree':              [0.01], \n",
    "    'reg_alpha':                     [0], \n",
    "    'reg_lambda':                    [0.89995, 1], \n",
    "}\n",
    "\n",
    "more_fix_param = {}\n",
    "# more_fix_param = {k:v[0] for k, v in now_param.items()}\n",
    "\n",
    "# now_param = { 'n_estimators': [932, 933, 934], }\n",
    "\n",
    "grid = GridSearchCV(lgbm.LGBMClassifier(**fix_param, **more_fix_param), \n",
    "                          now_param, \n",
    "                          cv=StratifiedKFold(10), \n",
    "                          scoring='roc_auc', \n",
    "                          n_jobs=-1)\n",
    "\n",
    "grid.fit(X2, y)\n",
    "\n",
    "print(f'Best parameters {grid.best_params_}.')\n",
    "print(f'Best auc score is {grid.best_score_}.')"
   ]
  },
  {
   "cell_type": "code",
   "execution_count": 55,
   "metadata": {},
   "outputs": [
    {
     "data": {
      "text/plain": [
       "array([ 858,  164,  876,  869,  126,  475,  613, 1323,  597, 1165,  876,\n",
       "        674], dtype=int32)"
      ]
     },
     "execution_count": 55,
     "metadata": {},
     "output_type": "execute_result"
    }
   ],
   "source": [
    "grid.best_estimator_.feature_importances_"
   ]
  },
  {
   "cell_type": "code",
   "execution_count": 60,
   "metadata": {},
   "outputs": [],
   "source": [
    "def pred_ult(clf, df, cols): return clf.predict_proba(transform(df, y=False)[cols].values)[:, 1]\n",
    "\n",
    "log_pred2 = pred_ult(log_reg_sel, df_ult, selected_cols)\n",
    "rdm_sel_pred2 = pred_ult(rdm_for_sel, df_ult, selected_cols)\n",
    "rdm_0t6_pred2 = pred_ult(rdm_for_0t6, df_ult, ['f1', 'f2', 'f3', 'f4', 'f5', 'f6'])\n",
    "rdm_7t12_pred2 = pred_ult(rdm_for_7t12, df_ult, ['f7', 'f8', 'f9', 'f10', 'f11', 'f12'])\n",
    "rdm_13t18_pred2 = pred_ult(rdm_for_13t18, df_ult, ['f13', 'f14', 'f15', 'f16', 'f17', 'f18'])\n",
    "rdm_19t24_pred2 = pred_ult(rdm_for_19t24, df_ult, ['f19', 'f20', 'f21', 'f22', 'f23', 'f24'])\n",
    "rdm_synth_pred2 = pred_ult(rdm_for_synth, df_ult, ['f8-f19', 'f8-f13', 'f17-f4', 'f4-f7', 'f13-f19', 'f8wf13wf19'])"
   ]
  },
  {
   "cell_type": "code",
   "execution_count": 62,
   "metadata": {},
   "outputs": [],
   "source": [
    "temp2 = transform(df_ult, y=False)\n",
    "\n",
    "X3 = np.array([log_pred2, \n",
    "               rdm_sel_pred2, \n",
    "               rdm_0t6_pred2, \n",
    "               rdm_7t12_pred2, \n",
    "               rdm_13t18_pred2, \n",
    "               rdm_19t24_pred2, \n",
    "               rdm_synth_pred2, \n",
    "               temp2['f14'], \n",
    "               temp2['f13'], \n",
    "               temp2['f15'], \n",
    "               temp2['f4'], \n",
    "               temp2['f8wf13wf19']]).T"
   ]
  },
  {
   "cell_type": "code",
   "execution_count": 64,
   "metadata": {},
   "outputs": [
    {
     "data": {
      "text/plain": [
       "LGBMClassifier(boosting_type='goss', class_weight=None, colsample_bytree=0.01,\n",
       "               importance_type='split', learning_rate=0.1, max_depth=-1,\n",
       "               metric='auc', min_child_samples=20, min_child_weight=0.001,\n",
       "               min_split_gain=0.0, n_estimators=1000, n_jobs=-1, num_leaves=31,\n",
       "               objective='binary', random_state=None, reg_alpha=0,\n",
       "               reg_lambda=0.89995, scale_pos_weight=0.06141885325558795,\n",
       "               silent=True, subsample=1.0, subsample_for_bin=200000,\n",
       "               subsample_freq=0)"
      ]
     },
     "execution_count": 64,
     "metadata": {},
     "output_type": "execute_result"
    }
   ],
   "source": [
    "grid.best_estimator_.fit(X2, y)"
   ]
  },
  {
   "cell_type": "code",
   "execution_count": 71,
   "metadata": {},
   "outputs": [],
   "source": [
    "req_rows = 16384\n",
    "clf = grid.best_estimator_\n",
    "result = pd.DataFrame(clf.predict_proba(X3)[:, 1], \n",
    "                      index=list(range(req_rows, req_rows*2 + 1)), \n",
    "                      columns=['Y'])\n",
    "\n",
    "result.index.name = 'Id'\n",
    "result.to_csv(f'submission_29_0.csv', float_format='%.20f')"
   ]
  }
 ],
 "metadata": {
  "kernelspec": {
   "display_name": "Python 3",
   "language": "python",
   "name": "python3"
  },
  "language_info": {
   "codemirror_mode": {
    "name": "ipython",
    "version": 3
   },
   "file_extension": ".py",
   "mimetype": "text/x-python",
   "name": "python",
   "nbconvert_exporter": "python",
   "pygments_lexer": "ipython3",
   "version": "3.6.8"
  }
 },
 "nbformat": 4,
 "nbformat_minor": 2
}
