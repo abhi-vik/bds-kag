{
 "cells": [
  {
   "cell_type": "code",
   "execution_count": 2,
   "metadata": {},
   "outputs": [],
   "source": [
    "import numpy as np\n",
    "import pandas as pd\n",
    "import seaborn as sns\n",
    "\n",
    "from sklearn.metrics import roc_auc_score, precision_score, recall_score, f1_score\n",
    "from sklearn.feature_selection import RFECV\n",
    "from sklearn.model_selection import RandomizedSearchCV, GridSearchCV, StratifiedKFold, train_test_split\n",
    "from sklearn.decomposition import PCA\n",
    "\n",
    "import lightgbm as lgbm\n",
    "import xgboost as xgb\n",
    "\n",
    "from imblearn.over_sampling import SMOTE\n",
    "\n",
    "from IPython.display import display"
   ]
  },
  {
   "cell_type": "code",
   "execution_count": 3,
   "metadata": {},
   "outputs": [],
   "source": [
    "df = pd.read_csv('data/train_final.csv', index_col='Id')\n",
    "df_ult = pd.read_csv('data/test_final.csv', index_col='Id')\n",
    "\n",
    "X = df.drop('Y', axis='columns').values\n",
    "y = df['Y'].values\n",
    "\n",
    "X_ult = df_ult.values\n",
    "\n",
    "scale_pos_weight = len(y[y == 0])/len(y[y == 1])\n",
    "\n",
    "const_params = {\n",
    "    'max_depth':                      11, \n",
    "#     'learning_rate':                  0.1, \n",
    "    'objective':                      'binary:logistic', \n",
    "    'booster':                        'gbtree',\n",
    "    'tree_method':                    'exact', \n",
    "    'eval_metric':                    'auc',\n",
    "#     'scale_pos_weight':               scale_pos_weight,\n",
    "    'n_jobs':                         -1\n",
    "}"
   ]
  },
  {
   "cell_type": "code",
   "execution_count": 4,
   "metadata": {},
   "outputs": [],
   "source": [
    "def transform(df, y=True):\n",
    "    df_copy = df.copy()\n",
    "    df_copy['f8-f19'] = df['f8'] - df['f19']\n",
    "    df_copy['f8-f13'] = df['f8'] - df['f13']\n",
    "    df_copy['f17-f4'] = df['f17'] - df['f4']\n",
    "    df_copy['f4-f7'] = df['f4'] - df['f7']\n",
    "    df_copy['f13-f19'] = df['f13'] - df['f19']\n",
    "    df_copy['f8wf13wf19'] = PCA(n_components=1).fit_transform(df[['f8', 'f13', 'f19']])\n",
    "    return df_copy.drop('Y', axis='columns') if y else df_copy\n",
    "\n",
    "selected_cols = ['f14', 'f13', 'f15', 'f4', 'f8wf13wf19', 'f4-f7', 'f16', 'f17', 'f19', 'f1', 'f8-f19']"
   ]
  },
  {
   "cell_type": "code",
   "execution_count": 41,
   "metadata": {},
   "outputs": [
    {
     "name": "stdout",
     "output_type": "stream",
     "text": [
      "Best parameters {'colsample_bylevel': 0.03, 'colsample_bynode': 0.86, 'colsample_bytree': 1, 'learning_rate': 0.097474, 'max_depth': 5, 'n_estimators': 816, 'random_state': 0, 'reg_alpha': 0, 'reg_lambda': 1}.\n",
      "Best auc score is 0.8977822444922717.\n"
     ]
    }
   ],
   "source": [
    "tuning_parameters = {'max_depth':                      [5], \n",
    "                     'learning_rate':                  [0.097474, 0.0974741, 0.0974742], \n",
    "                     'n_estimators':                   [816, 817], \n",
    "                     'reg_alpha':                      [0], \n",
    "                     'reg_lambda':                     [1], \n",
    "                     'colsample_bytree': [1], 'colsample_bylevel': [0.03], \n",
    "                     'colsample_bynode': [0.86], \n",
    "                    'random_state': [0]}\n",
    "\n",
    "grid = GridSearchCV(xgb.XGBClassifier(**const_params), \n",
    "                          tuning_parameters, \n",
    "#                           n_iter=20,\n",
    "                          cv=StratifiedKFold(5), \n",
    "                          scoring='roc_auc', \n",
    "                          n_jobs=-1)\n",
    "\n",
    "grid.fit(transform(df)[selected_cols].values, y)\n",
    "\n",
    "print(f'Best parameters {grid.best_params_}.')\n",
    "print(f'Best auc score is {grid.best_score_}.')"
   ]
  },
  {
   "cell_type": "code",
   "execution_count": 6,
   "metadata": {},
   "outputs": [
    {
     "name": "stdout",
     "output_type": "stream",
     "text": [
      "Best parameters {'learning_rate': 0.097474, 'n_estimators': 600, 'random_state': 0, 'reg_alpha': 0, 'reg_lambda': 1}.\n",
      "Best auc score is 0.8784755948663868.\n"
     ]
    }
   ],
   "source": [
    "tuning_parameters = {    \n",
    "    'learning_rate':                  [0.01, 0.1, 0.05, 0.097474], \n",
    "    'n_estimators':                   [400, 500, 600, 700, 816, 817, 1000], \n",
    "    'reg_alpha':                      [0], \n",
    "    'reg_lambda':                     [1], \n",
    "#     'colsample_bytree': [1], 'colsample_bylevel': [0.03], \n",
    "#     'colsample_bynode': [0.86], \n",
    "    'random_state': [0]\n",
    "}\n",
    "\n",
    "grid = GridSearchCV(xgb.XGBClassifier(**const_params), \n",
    "                          tuning_parameters, \n",
    "#                           n_iter=20,\n",
    "                          cv=StratifiedKFold(5), \n",
    "                          scoring='roc_auc', \n",
    "                          n_jobs=-1)\n",
    "\n",
    "grid.fit(transform(df)[selected_cols].values, y)\n",
    "\n",
    "print(f'Best parameters {grid.best_params_}.')\n",
    "print(f'Best auc score is {grid.best_score_}.')"
   ]
  },
  {
   "cell_type": "code",
   "execution_count": 14,
   "metadata": {},
   "outputs": [
    {
     "name": "stdout",
     "output_type": "stream",
     "text": [
      "Best parameters {'n_estimators': 934}.\n",
      "Best auc score is 0.8978575448588804.\n"
     ]
    }
   ],
   "source": [
    "fix_param = {\n",
    "    'boosting_type':                 'goss', \n",
    "    'metric':                        'auc', \n",
    "    'objective':                     'binary', \n",
    "    'scale_pos_weight':              scale_pos_weight, \n",
    "    'n_jobs':                        -1, \n",
    "#     'seed': 75\n",
    "}\n",
    "\n",
    "now_param = {\n",
    "#     'n_estimators':                  [933, 934], \n",
    "    'learning_rate':                 [0.1], \n",
    "#     'min_child_weight':              [1e-3, 1e-9], \n",
    "#     'min_split_gain':                [6e-6], \n",
    "    'colsample_bytree':              [0.01], \n",
    "    'reg_alpha':                     [0], \n",
    "    'reg_lambda':                    [0.89995], \n",
    "    'seed': range(20),\n",
    "}\n",
    "\n",
    "more_fix_param = {}\n",
    "more_fix_param = {k:v[0] for k, v in now_param.items()}\n",
    "\n",
    "now_param = { 'n_estimators': [932, 933, 934], }\n",
    "\n",
    "grid = GridSearchCV(lgbm.LGBMClassifier(**fix_param, **more_fix_param), \n",
    "                          now_param, \n",
    "                          cv=StratifiedKFold(5), \n",
    "                          scoring='roc_auc', \n",
    "                          n_jobs=-1)\n",
    "\n",
    "grid.fit(transform(df)[selected_cols].values, y)\n",
    "\n",
    "print(f'Best parameters {grid.best_params_}.')\n",
    "print(f'Best auc score is {grid.best_score_}.')"
   ]
  },
  {
   "cell_type": "code",
   "execution_count": 13,
   "metadata": {},
   "outputs": [],
   "source": [
    "req_rows = 16384\n",
    "clf = grid.best_estimator_\n",
    "clf.fit(transform(df)[selected_cols].values, y)\n",
    "result = pd.DataFrame(clf.predict_proba(transform(df_ult, y=False)[selected_cols].values)[:, 1], \n",
    "                      index=list(range(req_rows, req_rows*2 + 1)), \n",
    "                      columns=['Y'])\n",
    "\n",
    "result.index.name = 'Id'\n",
    "result.to_csv(f'submission_29_1.csv', float_format='%.20f')"
   ]
  },
  {
   "cell_type": "code",
   "execution_count": null,
   "metadata": {},
   "outputs": [],
   "source": []
  }
 ],
 "metadata": {
  "kernelspec": {
   "display_name": "Python 3",
   "language": "python",
   "name": "python3"
  },
  "language_info": {
   "codemirror_mode": {
    "name": "ipython",
    "version": 3
   },
   "file_extension": ".py",
   "mimetype": "text/x-python",
   "name": "python",
   "nbconvert_exporter": "python",
   "pygments_lexer": "ipython3",
   "version": "3.6.8"
  }
 },
 "nbformat": 4,
 "nbformat_minor": 2
}
