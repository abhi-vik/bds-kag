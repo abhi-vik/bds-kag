{
 "cells": [
  {
   "cell_type": "code",
   "execution_count": 74,
   "metadata": {},
   "outputs": [],
   "source": [
    "import numpy as np\n",
    "import pandas as pd\n",
    "\n",
    "from sklearn.feature_selection import RFECV\n",
    "from sklearn.model_selection import GridSearchCV, StratifiedKFold, train_test_split\n",
    "\n",
    "import lightgbm as lgbm\n",
    "\n",
    "from IPython.display import display"
   ]
  },
  {
   "cell_type": "code",
   "execution_count": 2,
   "metadata": {},
   "outputs": [],
   "source": [
    "df = pd.read_csv('data/train_final.csv', index_col='Id')\n",
    "df_ult = pd.read_csv('data/test_final.csv', index_col='Id')\n",
    "\n",
    "X = df.drop('Y', axis='columns').values\n",
    "y = df['Y'].values\n",
    "\n",
    "X_ult = df_ult.values\n",
    "\n",
    "scale_pos_weight = len(y[y == 0])/len(y[y == 1])"
   ]
  },
  {
   "cell_type": "code",
   "execution_count": 59,
   "metadata": {},
   "outputs": [],
   "source": [
    "def get_ind(mask): return [index for index, mask_ele in enumerate(mask) if mask_ele==True]\n",
    "\n",
    "def get_best_ind(importances, start=7, number=5):\n",
    "    ranked_features = sorted(range(len(importances)), key=lambda i: importances[i], reverse=True)\n",
    "    return [ranked_features[:i] for i in range(start, start + number)]\n",
    "\n",
    "def get_best_features(model, data, step=1):\n",
    "    rfecv = RFECV(estimator=model, step=step, cv=StratifiedKFold(5), scoring='roc_auc', n_jobs=-1)\n",
    "    return rfecv.fit(data, y)\n",
    "\n",
    "def get_clf():\n",
    "    return lgbm.LGBMClassifier(n_estimators=500,\n",
    "                               learning_rate=0.1, \n",
    "                               boosting_type='goss', \n",
    "                               max_depth=5, \n",
    "                               num_leaves=33,\n",
    "                               objective='binary', \n",
    "                               scale_pos_weight=scale_pos_weight)"
   ]
  },
  {
   "cell_type": "code",
   "execution_count": null,
   "metadata": {},
   "outputs": [],
   "source": [
    "def alter_params(params, dec):\n",
    "    new_params = {}\n",
    "    new_params['n_estimators'] = [round(params['n_estimators'] + np.ceil(dec)), \n",
    "                                  round(params['n_estimators'] - np.ceil(dec))]\n",
    "    new_params['learning_rate'] = [params['learning_rate'] + 0.001 * dec, \n",
    "                                   params['learning_rate'] - 0.001 * dec]\n",
    "    new_params['n_estimators'] = [round(params['num_leaves'] + np.ceil(0.05 * dec)), \n",
    "                                  round(params['num_leaves'] - np.ceil(0.05 * dec))]\n",
    "    new_params['reg_alpha'] = [params['reg_alpha'] * (1 + (0.02 * dec)), \n",
    "                               params['reg_alpha'] * (1 - (0.02 * dec))]\n",
    "    new_params['reg_lambda'] = [params['reg_lambda'] + (0.05 * dec), \n",
    "                                params['reg_lambda'] - (0.05 * dec)]\n",
    "    return new_params\n",
    "\n",
    "start_var_param = [{\n",
    "    'n_estimators':                  500,\n",
    "    'learning_rate':                 0.1, \n",
    "    'num_leaves':                    33, \n",
    "    'reg_alpha':                     0.001, \n",
    "    'reg_lambda':                    1, \n",
    "}]"
   ]
  },
  {
   "cell_type": "code",
   "execution_count": 12,
   "metadata": {},
   "outputs": [],
   "source": [
    "fix_param = {\n",
    "    'boosting_type':                 'goss', \n",
    "    'max_depth':                     5, \n",
    "    'objective':                     'binary', \n",
    "    'scale_pos_weight':              scale_pos_weight,\n",
    "    'n_jobs':                        -1\n",
    "}"
   ]
  },
  {
   "cell_type": "code",
   "execution_count": 116,
   "metadata": {},
   "outputs": [
    {
     "data": {
      "image/png": "[encoded data removed]",
      "text/plain": [
       "<Figure size 1152x504 with 1 Axes>"
      ]
     },
     "metadata": {
      "needs_background": "light"
     },
     "output_type": "display_data"
    }
   ],
   "source": [
    "clf = clfs[2].fit(X, y)\n",
    "pd.Series(clf.feature_importances_, index=list(range(X.shape[1]))).plot.bar(color='steelblue', figsize=(16, 7));"
   ]
  },
  {
   "cell_type": "code",
   "execution_count": 117,
   "metadata": {},
   "outputs": [
    {
     "name": "stdout",
     "output_type": "stream",
     "text": [
      "[0, 3, 7, 12, 13, 14, 15]\n",
      "[0, 3, 7, 12, 13, 14, 15, 18, 22]\n",
      "[0, 3, 7, 11, 12, 13, 14, 15, 16, 18, 22]\n"
     ]
    }
   ],
   "source": [
    "rankings = get_best_features(clfs[2], X).ranking_\n",
    "\n",
    "print(get_ind(np.isin(rankings, [1])))\n",
    "print(get_ind(np.isin(rankings, [1, 2, 3])))\n",
    "print(get_ind(np.isin(rankings, [1, 2, 3, 4, 5])))"
   ]
  },
  {
   "cell_type": "code",
   "execution_count": 133,
   "metadata": {},
   "outputs": [
    {
     "name": "stdout",
     "output_type": "stream",
     "text": [
      "Best parameters {'feature_fraction': 0.38, 'min_child_weight': 1e-07, 'n_estimators': 945, 'seed': 55}.\n",
      "Best auc score is 0.8961743884754645.\n",
      "Best parameters {'feature_fraction': 0.38, 'min_child_weight': 1e-07, 'n_estimators': 945, 'seed': 121}.\n",
      "Best auc score is 0.8963934561372057.\n"
     ]
    }
   ],
   "source": [
    "var_param = {'min_child_samples':             20,\n",
    "             'learning_rate':                 0.1, \n",
    "             'num_leaves':                    31,\n",
    "             'colsample_bytree':              1.0,\n",
    "             'reg_alpha':                     0.000659,\n",
    "             'reg_lambda':                    0.9}\n",
    "\n",
    "def do_tune(tun_param, feats):\n",
    "    grid = GridSearchCV(lgbm.LGBMClassifier(**fix_param, **var_param), \n",
    "                        tun_param, \n",
    "                        cv=StratifiedKFold(5), \n",
    "                        scoring='roc_auc', \n",
    "                        n_jobs=-1)\n",
    "    \n",
    "    grid.fit(X[:, feats], y)\n",
    "    \n",
    "    print(f'Best parameters {grid.best_params_}.')\n",
    "    print(f'Best auc score is {grid.best_score_}.')\n",
    "    \n",
    "    clfs.append(grid.best_estimator_)\n",
    "\n",
    "clfs = []\n",
    "tun_param = [{'n_estimators':                  [910], # 895 to 915\n",
    "              'min_child_weight':              [9e-7],\n",
    "              'feature_fraction':              [0.25]}] #0.24 to 0.26\n",
    "do_tune(tun_param, [3, 6, 7, 12, 13, 14, 15, 16, 18, 21])\n",
    "\n",
    "tun_param = [{'n_estimators':                  [980], # 1000 to 970\n",
    "              'min_child_weight':              [1e-7], \n",
    "              'feature_fraction':              [0.05]}] # 0.06 to 0.07\n",
    "do_tune(tun_param, [0, 3, 7, 12, 13, 14, 15])\n",
    "\n",
    "tun_param = [{'n_estimators':                  [845], # 844 to 847\n",
    "              'min_child_weight':              [1e-7], \n",
    "              'feature_fraction':              [0.23],  # 0.2 to 0.25\n",
    "              'seed':                          list(range(100))}]\n",
    "do_tune(tun_param, [1, 3, 6, 7, 12, 13, 14, 15, 16, 18, 23])\n",
    "\n",
    "tun_param = [{'n_estimators':                  [945], # 955 to 940\n",
    "              'min_child_weight':              [1e-7], \n",
    "              'feature_fraction':              [0.38], # 0.41 to 0.35\n",
    "              'seed':                          list(range(50, 100))}]\n",
    "do_tune(tun_param, [0, 1, 3, 6, 7, 12, 13, 14, 15, 16, 18, 23])\n",
    "\n",
    "tun_param = [{'n_estimators':                  [945], # 955 to 940\n",
    "              'min_child_weight':              [1e-7], \n",
    "              'feature_fraction':              [0.38], # 0.41 to 0.35\n",
    "              'seed':                          list(range(100, 150))}]\n",
    "do_tune(tun_param, [0, 1, 3, 6, 7, 12, 13, 14, 15, 16, 18, 23])"
   ]
  },
  {
   "cell_type": "code",
   "execution_count": 134,
   "metadata": {},
   "outputs": [
    {
     "data": {
      "text/plain": [
       "'Re-training...'"
      ]
     },
     "metadata": {},
     "output_type": "display_data"
    },
    {
     "data": {
      "text/plain": [
       "'Writing...'"
      ]
     },
     "metadata": {},
     "output_type": "display_data"
    },
    {
     "data": {
      "text/plain": [
       "'Done.'"
      ]
     },
     "metadata": {},
     "output_type": "display_data"
    }
   ],
   "source": [
    "req_rows = 16384\n",
    "sealed_feats = []\n",
    "\n",
    "display('Re-training...')\n",
    "preds_dfs = []\n",
    "for feats, clf in zip(sealed_feats, clfs):\n",
    "    clf.fit(X[:, feats], y)\n",
    "    preds_dfs.append(pd.DataFrame(clf.predict_proba(X_ult[:, feats])[:, 1], \n",
    "                          index=list(range(req_rows, req_rows*2 + 1)), \n",
    "                          columns=['Y']))\n",
    "\n",
    "display('Writing...')\n",
    "for idx, df in enumerate(preds_dfs):\n",
    "    df.index.name = 'Id'\n",
    "    df.to_csv(f'submission_26_{idx}.csv')\n",
    "display('Done.')"
   ]
  },
  {
   "cell_type": "code",
   "execution_count": null,
   "metadata": {},
   "outputs": [],
   "source": []
  }
 ],
 "metadata": {
  "kernelspec": {
   "display_name": "Python 3",
   "language": "python",
   "name": "python3"
  },
  "language_info": {
   "codemirror_mode": {
    "name": "ipython",
    "version": 3
   },
   "file_extension": ".py",
   "mimetype": "text/x-python",
   "name": "python",
   "nbconvert_exporter": "python",
   "pygments_lexer": "ipython3",
   "version": "3.6.8"
  }
 },
 "nbformat": 4,
 "nbformat_minor": 2
}
