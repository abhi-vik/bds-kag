{
 "cells": [
  {
   "cell_type": "code",
   "execution_count": 81,
   "metadata": {},
   "outputs": [],
   "source": [
    "import numpy as np\n",
    "import pandas as pd\n",
    "import seaborn as sns\n",
    "\n",
    "from sklearn.metrics import roc_auc_score, precision_score, recall_score, f1_score\n",
    "from sklearn.feature_selection import RFECV\n",
    "from sklearn.model_selection import GridSearchCV, StratifiedKFold, train_test_split, ParameterGrid\n",
    "from sklearn.decomposition import PCA\n",
    "\n",
    "import lightgbm as lgbm\n",
    "\n",
    "from imblearn.over_sampling import SMOTE\n",
    "\n",
    "from IPython.display import display"
   ]
  },
  {
   "cell_type": "code",
   "execution_count": 245,
   "metadata": {},
   "outputs": [],
   "source": [
    "df = pd.read_csv('data/train_final.csv', index_col='Id')\n",
    "\n",
    "X = df.drop('Y', axis='columns').values\n",
    "y = df['Y'].values\n",
    "\n",
    "scale_pos_weight = len(y[y == 0])/len(y[y == 1])"
   ]
  },
  {
   "cell_type": "code",
   "execution_count": 242,
   "metadata": {},
   "outputs": [],
   "source": [
    "df_ult = pd.read_csv('data/test_final.csv', index_col='Id')\n",
    "\n",
    "X_ult = df_ult.values"
   ]
  },
  {
   "cell_type": "code",
   "execution_count": 5,
   "metadata": {},
   "outputs": [
    {
     "data": {
      "text/html": [
       "<div>\n",
       "<style scoped>\n",
       "    .dataframe tbody tr th:only-of-type {\n",
       "        vertical-align: middle;\n",
       "    }\n",
       "\n",
       "    .dataframe tbody tr th {\n",
       "        vertical-align: top;\n",
       "    }\n",
       "\n",
       "    .dataframe thead th {\n",
       "        text-align: right;\n",
       "    }\n",
       "</style>\n",
       "<table border=\"1\" class=\"dataframe\">\n",
       "  <thead>\n",
       "    <tr style=\"text-align: right;\">\n",
       "      <th></th>\n",
       "      <th>f1</th>\n",
       "      <th>f2</th>\n",
       "      <th>f3</th>\n",
       "      <th>f4</th>\n",
       "      <th>f5</th>\n",
       "      <th>f6</th>\n",
       "      <th>f7</th>\n",
       "      <th>f8</th>\n",
       "      <th>f9</th>\n",
       "      <th>f10</th>\n",
       "      <th>...</th>\n",
       "      <th>f15</th>\n",
       "      <th>f16</th>\n",
       "      <th>f17</th>\n",
       "      <th>f18</th>\n",
       "      <th>f19</th>\n",
       "      <th>f20</th>\n",
       "      <th>f21</th>\n",
       "      <th>f22</th>\n",
       "      <th>f23</th>\n",
       "      <th>f24</th>\n",
       "    </tr>\n",
       "  </thead>\n",
       "  <tbody>\n",
       "    <tr>\n",
       "      <th>count</th>\n",
       "      <td>16383.000000</td>\n",
       "      <td>16383.000000</td>\n",
       "      <td>16383.000000</td>\n",
       "      <td>16383.000000</td>\n",
       "      <td>16383.000000</td>\n",
       "      <td>16383.000000</td>\n",
       "      <td>16383.000000</td>\n",
       "      <td>16383.000000</td>\n",
       "      <td>16383.000000</td>\n",
       "      <td>16383.000000</td>\n",
       "      <td>...</td>\n",
       "      <td>16383.000000</td>\n",
       "      <td>16383.000000</td>\n",
       "      <td>16383.000000</td>\n",
       "      <td>16383.000000</td>\n",
       "      <td>16383.000000</td>\n",
       "      <td>16383.000000</td>\n",
       "      <td>16383.000000</td>\n",
       "      <td>16383.000000</td>\n",
       "      <td>1.638300e+04</td>\n",
       "      <td>16383.000000</td>\n",
       "    </tr>\n",
       "    <tr>\n",
       "      <th>mean</th>\n",
       "      <td>43007.775865</td>\n",
       "      <td>1.044375</td>\n",
       "      <td>11.770938</td>\n",
       "      <td>118323.581456</td>\n",
       "      <td>1.044436</td>\n",
       "      <td>0.050052</td>\n",
       "      <td>117089.674113</td>\n",
       "      <td>169730.178600</td>\n",
       "      <td>1.041812</td>\n",
       "      <td>4.976317</td>\n",
       "      <td>...</td>\n",
       "      <td>25894.316914</td>\n",
       "      <td>119045.099005</td>\n",
       "      <td>184622.040835</td>\n",
       "      <td>1.047305</td>\n",
       "      <td>125959.667765</td>\n",
       "      <td>1.044558</td>\n",
       "      <td>1.045718</td>\n",
       "      <td>1.041934</td>\n",
       "      <td>3.271890e+04</td>\n",
       "      <td>1.043948</td>\n",
       "    </tr>\n",
       "    <tr>\n",
       "      <th>std</th>\n",
       "      <td>33611.182771</td>\n",
       "      <td>0.264806</td>\n",
       "      <td>353.187115</td>\n",
       "      <td>4518.059755</td>\n",
       "      <td>0.265601</td>\n",
       "      <td>0.293892</td>\n",
       "      <td>10261.292970</td>\n",
       "      <td>69396.677853</td>\n",
       "      <td>0.258226</td>\n",
       "      <td>65.629620</td>\n",
       "      <td>...</td>\n",
       "      <td>36086.993946</td>\n",
       "      <td>18321.987129</td>\n",
       "      <td>100590.811845</td>\n",
       "      <td>0.306239</td>\n",
       "      <td>31091.344158</td>\n",
       "      <td>0.262576</td>\n",
       "      <td>0.266874</td>\n",
       "      <td>0.246597</td>\n",
       "      <td>3.184929e+06</td>\n",
       "      <td>0.259640</td>\n",
       "    </tr>\n",
       "    <tr>\n",
       "      <th>min</th>\n",
       "      <td>-1.000000</td>\n",
       "      <td>1.000000</td>\n",
       "      <td>1.770000</td>\n",
       "      <td>23779.000000</td>\n",
       "      <td>1.000000</td>\n",
       "      <td>0.000000</td>\n",
       "      <td>4292.000000</td>\n",
       "      <td>4673.000000</td>\n",
       "      <td>1.000000</td>\n",
       "      <td>0.000000</td>\n",
       "      <td>...</td>\n",
       "      <td>25.000000</td>\n",
       "      <td>4674.000000</td>\n",
       "      <td>3130.000000</td>\n",
       "      <td>1.000000</td>\n",
       "      <td>117879.000000</td>\n",
       "      <td>1.000000</td>\n",
       "      <td>1.000000</td>\n",
       "      <td>1.000000</td>\n",
       "      <td>1.000000e+00</td>\n",
       "      <td>1.000000</td>\n",
       "    </tr>\n",
       "    <tr>\n",
       "      <th>25%</th>\n",
       "      <td>20311.000000</td>\n",
       "      <td>1.000000</td>\n",
       "      <td>1.770000</td>\n",
       "      <td>118096.000000</td>\n",
       "      <td>1.000000</td>\n",
       "      <td>0.000000</td>\n",
       "      <td>117961.000000</td>\n",
       "      <td>117906.000000</td>\n",
       "      <td>1.000000</td>\n",
       "      <td>0.000000</td>\n",
       "      <td>...</td>\n",
       "      <td>4554.000000</td>\n",
       "      <td>118395.000000</td>\n",
       "      <td>118398.000000</td>\n",
       "      <td>1.000000</td>\n",
       "      <td>118274.000000</td>\n",
       "      <td>1.000000</td>\n",
       "      <td>1.000000</td>\n",
       "      <td>1.000000</td>\n",
       "      <td>1.000000e+00</td>\n",
       "      <td>1.000000</td>\n",
       "    </tr>\n",
       "    <tr>\n",
       "      <th>50%</th>\n",
       "      <td>35527.000000</td>\n",
       "      <td>1.000000</td>\n",
       "      <td>1.770000</td>\n",
       "      <td>118300.000000</td>\n",
       "      <td>1.000000</td>\n",
       "      <td>0.000000</td>\n",
       "      <td>117961.000000</td>\n",
       "      <td>128130.000000</td>\n",
       "      <td>1.000000</td>\n",
       "      <td>0.000000</td>\n",
       "      <td>...</td>\n",
       "      <td>13234.000000</td>\n",
       "      <td>118929.000000</td>\n",
       "      <td>119095.000000</td>\n",
       "      <td>1.000000</td>\n",
       "      <td>118568.000000</td>\n",
       "      <td>1.000000</td>\n",
       "      <td>1.000000</td>\n",
       "      <td>1.000000</td>\n",
       "      <td>2.000000e+00</td>\n",
       "      <td>1.000000</td>\n",
       "    </tr>\n",
       "    <tr>\n",
       "      <th>75%</th>\n",
       "      <td>74240.500000</td>\n",
       "      <td>1.000000</td>\n",
       "      <td>3.540000</td>\n",
       "      <td>118386.000000</td>\n",
       "      <td>1.000000</td>\n",
       "      <td>0.000000</td>\n",
       "      <td>117961.000000</td>\n",
       "      <td>234498.500000</td>\n",
       "      <td>1.000000</td>\n",
       "      <td>1.000000</td>\n",
       "      <td>...</td>\n",
       "      <td>38902.000000</td>\n",
       "      <td>120539.000000</td>\n",
       "      <td>290919.000000</td>\n",
       "      <td>1.000000</td>\n",
       "      <td>120006.000000</td>\n",
       "      <td>1.000000</td>\n",
       "      <td>1.000000</td>\n",
       "      <td>1.000000</td>\n",
       "      <td>9.000000e+00</td>\n",
       "      <td>1.000000</td>\n",
       "    </tr>\n",
       "    <tr>\n",
       "      <th>max</th>\n",
       "      <td>312152.000000</td>\n",
       "      <td>7.000000</td>\n",
       "      <td>43910.160000</td>\n",
       "      <td>286791.000000</td>\n",
       "      <td>9.000000</td>\n",
       "      <td>10.000000</td>\n",
       "      <td>311178.000000</td>\n",
       "      <td>311867.000000</td>\n",
       "      <td>11.000000</td>\n",
       "      <td>5036.000000</td>\n",
       "      <td>...</td>\n",
       "      <td>311696.000000</td>\n",
       "      <td>286792.000000</td>\n",
       "      <td>308574.000000</td>\n",
       "      <td>18.000000</td>\n",
       "      <td>311867.000000</td>\n",
       "      <td>8.000000</td>\n",
       "      <td>8.000000</td>\n",
       "      <td>7.000000</td>\n",
       "      <td>4.042886e+08</td>\n",
       "      <td>8.000000</td>\n",
       "    </tr>\n",
       "  </tbody>\n",
       "</table>\n",
       "<p>8 rows × 24 columns</p>\n",
       "</div>"
      ],
      "text/plain": [
       "                  f1            f2            f3             f4            f5  \\\n",
       "count   16383.000000  16383.000000  16383.000000   16383.000000  16383.000000   \n",
       "mean    43007.775865      1.044375     11.770938  118323.581456      1.044436   \n",
       "std     33611.182771      0.264806    353.187115    4518.059755      0.265601   \n",
       "min        -1.000000      1.000000      1.770000   23779.000000      1.000000   \n",
       "25%     20311.000000      1.000000      1.770000  118096.000000      1.000000   \n",
       "50%     35527.000000      1.000000      1.770000  118300.000000      1.000000   \n",
       "75%     74240.500000      1.000000      3.540000  118386.000000      1.000000   \n",
       "max    312152.000000      7.000000  43910.160000  286791.000000      9.000000   \n",
       "\n",
       "                 f6             f7             f8            f9           f10  \\\n",
       "count  16383.000000   16383.000000   16383.000000  16383.000000  16383.000000   \n",
       "mean       0.050052  117089.674113  169730.178600      1.041812      4.976317   \n",
       "std        0.293892   10261.292970   69396.677853      0.258226     65.629620   \n",
       "min        0.000000    4292.000000    4673.000000      1.000000      0.000000   \n",
       "25%        0.000000  117961.000000  117906.000000      1.000000      0.000000   \n",
       "50%        0.000000  117961.000000  128130.000000      1.000000      0.000000   \n",
       "75%        0.000000  117961.000000  234498.500000      1.000000      1.000000   \n",
       "max       10.000000  311178.000000  311867.000000     11.000000   5036.000000   \n",
       "\n",
       "       ...            f15            f16            f17           f18  \\\n",
       "count  ...   16383.000000   16383.000000   16383.000000  16383.000000   \n",
       "mean   ...   25894.316914  119045.099005  184622.040835      1.047305   \n",
       "std    ...   36086.993946   18321.987129  100590.811845      0.306239   \n",
       "min    ...      25.000000    4674.000000    3130.000000      1.000000   \n",
       "25%    ...    4554.000000  118395.000000  118398.000000      1.000000   \n",
       "50%    ...   13234.000000  118929.000000  119095.000000      1.000000   \n",
       "75%    ...   38902.000000  120539.000000  290919.000000      1.000000   \n",
       "max    ...  311696.000000  286792.000000  308574.000000     18.000000   \n",
       "\n",
       "                 f19           f20           f21           f22           f23  \\\n",
       "count   16383.000000  16383.000000  16383.000000  16383.000000  1.638300e+04   \n",
       "mean   125959.667765      1.044558      1.045718      1.041934  3.271890e+04   \n",
       "std     31091.344158      0.262576      0.266874      0.246597  3.184929e+06   \n",
       "min    117879.000000      1.000000      1.000000      1.000000  1.000000e+00   \n",
       "25%    118274.000000      1.000000      1.000000      1.000000  1.000000e+00   \n",
       "50%    118568.000000      1.000000      1.000000      1.000000  2.000000e+00   \n",
       "75%    120006.000000      1.000000      1.000000      1.000000  9.000000e+00   \n",
       "max    311867.000000      8.000000      8.000000      7.000000  4.042886e+08   \n",
       "\n",
       "                f24  \n",
       "count  16383.000000  \n",
       "mean       1.043948  \n",
       "std        0.259640  \n",
       "min        1.000000  \n",
       "25%        1.000000  \n",
       "50%        1.000000  \n",
       "75%        1.000000  \n",
       "max        8.000000  \n",
       "\n",
       "[8 rows x 24 columns]"
      ]
     },
     "execution_count": 5,
     "metadata": {},
     "output_type": "execute_result"
    }
   ],
   "source": [
    "df.drop('Y', axis='columns').describe()"
   ]
  },
  {
   "cell_type": "code",
   "execution_count": 6,
   "metadata": {},
   "outputs": [
    {
     "data": {
      "image/png": "[encoded data removed]",
      "text/plain": [
       "<Figure size 1296x864 with 2 Axes>"
      ]
     },
     "metadata": {},
     "output_type": "display_data"
    }
   ],
   "source": [
    "sns.set()\n",
    "sns.set(rc={'figure.figsize':(18,12)})\n",
    "sns.heatmap(df.corr());"
   ]
  },
  {
   "cell_type": "code",
   "execution_count": 231,
   "metadata": {},
   "outputs": [],
   "source": [
    "def get_ind(mask): return [index for index, mask_ele in enumerate(mask) if mask_ele==True]\n",
    "\n",
    "def get_best_ind(importances, start=7, number=5):\n",
    "    ranked_features = sorted(range(len(importances)), key=lambda i: importances[i], reverse=True)\n",
    "    return [ranked_features[:i] for i in range(start, start + number)]\n",
    "\n",
    "def get_best_features(model, data, step=1):\n",
    "    rfecv = RFECV(estimator=model, step=step, cv=StratifiedKFold(5), scoring='roc_auc', n_jobs=-1)\n",
    "    return rfecv.fit(data, y)\n",
    "\n",
    "def get_clf():\n",
    "    return lgbm.LGBMClassifier(**fix_param, **var_param, **fake_param)\n",
    "\n",
    "fix_param = {\n",
    "#     'boosting_type':                 'goss', \n",
    "    'metric':                        'auc',\n",
    "#     'max_depth':                     5, \n",
    "    'objective':                     'binary',\n",
    "#     'scale_pos_weight':              'balanced',\n",
    "    'scale_pos_weight':              scale_pos_weight,\n",
    "    'n_jobs':                        -1\n",
    "}\n",
    "\n",
    "var_param = {'min_child_samples':             20,\n",
    "             'learning_rate':                 0.1, \n",
    "#              'num_leaves':                    33,\n",
    "             'reg_alpha':                     0.000659,\n",
    "             'reg_lambda':                    0.9}\n",
    "\n",
    "fake_param = {\n",
    "    'n_estimators':                  900,\n",
    "    'min_child_weight':              1e-4, \n",
    "    'feature_fraction':              0.9,\n",
    "}"
   ]
  },
  {
   "cell_type": "code",
   "execution_count": 246,
   "metadata": {},
   "outputs": [],
   "source": [
    "df_copy1 = df_ult.copy()\n",
    "df_copy1['f8-f19'] = df_ult['f8'] - df_ult['f19'] # iffy\n",
    "df_copy1['f8-f13'] = df_ult['f8'] - df_ult['f13'] # iffy again\n",
    "df_copy1['f17-f4'] = df_ult['f17'] - df_ult['f4'] # iffy yet again\n",
    "df_copy1['f4-f7'] = df_ult['f4'] - df_ult['f7'] # nice\n",
    "df_copy1['f13-f19'] = df_ult['f13'] - df_ult['f19'] # nice\n",
    "df_copy1['f8wf13wf19'] = PCA(n_components=1).fit_transform(df_ult[['f8', 'f13', 'f19']])"
   ]
  },
  {
   "cell_type": "code",
   "execution_count": 9,
   "metadata": {},
   "outputs": [],
   "source": [
    "ranker = get_best_features(get_clf(), X)\n",
    "def ind_to_name(df, idx): return df.columns[idx].tolist()\n",
    "best_indices = get_ind(np.isin(ranker.ranking_, [1, 2, 3, 4]))\n",
    "print(ind_to_name(X_df, best_indices))"
   ]
  },
  {
   "cell_type": "code",
   "execution_count": 10,
   "metadata": {},
   "outputs": [
    {
     "data": {
      "image/png": "[encoded data removed]",
      "text/plain": [
       "<Figure size 1152x504 with 1 Axes>"
      ]
     },
     "metadata": {},
     "output_type": "display_data"
    }
   ],
   "source": [
    "(pd.Series(get_clf().fit(X, y).feature_importances_, index=X_df.columns.tolist())\n",
    " .plot.bar(color='steelblue', figsize=(16, 7)));"
   ]
  },
  {
   "cell_type": "code",
   "execution_count": 11,
   "metadata": {},
   "outputs": [
    {
     "data": {
      "image/png": "[encoded data removed]",
      "text/plain": [
       "<Figure size 1152x504 with 1 Axes>"
      ]
     },
     "metadata": {},
     "output_type": "display_data"
    }
   ],
   "source": [
    "(pd.Series(lgbm.LGBMClassifier(**fix_param).fit(X, y).feature_importances_, \n",
    "           index=X_df.columns.tolist())\n",
    " .plot.bar(color='steelblue', figsize=(16, 7)));"
   ]
  },
  {
   "cell_type": "code",
   "execution_count": 122,
   "metadata": {},
   "outputs": [
    {
     "name": "stdout",
     "output_type": "stream",
     "text": [
      "([13], 0.763290477328735)\n",
      "([13, 12], 0.8106861675422959)\n",
      "([13, 12, 14], 0.850562583838032)\n",
      "([13, 12, 14, 3], 0.8726172394324975)\n",
      "([13, 12, 14, 3, 7], 0.8854984023535192)\n",
      "([13, 12, 14, 3, 7, 18], 0.8882206423683853)\n",
      "([13, 12, 14, 3, 7, 18, 15], 0.890757552840429)\n",
      "done\n",
      "0.890757552840429\n",
      "[13, 12, 14, 3, 7, 18, 15]\n"
     ]
    }
   ],
   "source": [
    "primary = ([], 0)\n",
    "for _ in range(24):\n",
    "    best_feature_score = (0, 0)\n",
    "    remaining_features = np.setdiff1d(list(range(24)), primary[0]).tolist()\n",
    "    for current_feature in remaining_features:\n",
    "        current_features = primary[0] + [current_feature]\n",
    "        current_score = scorer(current_features)\n",
    "        if current_score > best_feature_score[1]:\n",
    "            best_feature_score = (current_feature, current_score)\n",
    "    if best_feature_score[1] > primary[1]:\n",
    "        primary = (primary[0] + [best_feature_score[0]], best_feature_score[1])\n",
    "        print(primary)\n",
    "    else:\n",
    "        break\n",
    "\n",
    "print('done')\n",
    "print(primary[1])\n",
    "print(primary[0])"
   ]
  },
  {
   "cell_type": "code",
   "execution_count": 130,
   "metadata": {},
   "outputs": [
    {
     "name": "stdout",
     "output_type": "stream",
     "text": [
      "([13], 0.763290477328735)\n",
      "([13, 12], 0.8106861675422959)\n",
      "([13, 12, 14], 0.850562583838032)\n",
      "([13, 12, 14, 3], 0.8726172394324975)\n",
      "([13, 12, 14, 3, 29], 0.8874161223703495)\n",
      "([13, 12, 14, 3, 29, 27], 0.8920423988750297)\n",
      "done\n",
      "0.8920423988750297\n",
      "[13, 12, 14, 3, 29, 27]\n"
     ]
    }
   ],
   "source": [
    "primary = ([], 0)\n",
    "for _ in range(30):\n",
    "    best_feature_score = (0, 0)\n",
    "    remaining_features = np.setdiff1d(list(range(30)), primary[0]).tolist()\n",
    "    for current_feature in remaining_features:\n",
    "        current_features = primary[0] + [current_feature]\n",
    "        current_score = scorer(current_features)\n",
    "        if current_score > best_feature_score[1]:\n",
    "            best_feature_score = (current_feature, current_score)\n",
    "    if best_feature_score[1] > primary[1]:\n",
    "        primary = (primary[0] + [best_feature_score[0]], best_feature_score[1])\n",
    "        print(primary)\n",
    "    else:\n",
    "        break\n",
    "\n",
    "print('done')\n",
    "print(primary[1])\n",
    "print(primary[0])"
   ]
  },
  {
   "cell_type": "code",
   "execution_count": 12,
   "metadata": {},
   "outputs": [
    {
     "data": {
      "image/png": "[encoded data removed]",
      "text/plain": [
       "<Figure size 1296x864 with 2 Axes>"
      ]
     },
     "metadata": {},
     "output_type": "display_data"
    }
   ],
   "source": [
    "sns.heatmap(X_df.corr());"
   ]
  },
  {
   "cell_type": "code",
   "execution_count": 204,
   "metadata": {},
   "outputs": [
    {
     "data": {
      "text/html": [
       "<div>\n",
       "<style scoped>\n",
       "    .dataframe tbody tr th:only-of-type {\n",
       "        vertical-align: middle;\n",
       "    }\n",
       "\n",
       "    .dataframe tbody tr th {\n",
       "        vertical-align: top;\n",
       "    }\n",
       "\n",
       "    .dataframe thead th {\n",
       "        text-align: right;\n",
       "    }\n",
       "</style>\n",
       "<table border=\"1\" class=\"dataframe\">\n",
       "  <thead>\n",
       "    <tr style=\"text-align: right;\">\n",
       "      <th></th>\n",
       "      <th>f8-f19</th>\n",
       "      <th>f8-f13</th>\n",
       "    </tr>\n",
       "    <tr>\n",
       "      <th>Id</th>\n",
       "      <th></th>\n",
       "      <th></th>\n",
       "    </tr>\n",
       "  </thead>\n",
       "  <tbody>\n",
       "    <tr>\n",
       "      <th>101</th>\n",
       "      <td>-1724</td>\n",
       "      <td>-1725</td>\n",
       "    </tr>\n",
       "    <tr>\n",
       "      <th>102</th>\n",
       "      <td>-415</td>\n",
       "      <td>-416</td>\n",
       "    </tr>\n",
       "    <tr>\n",
       "      <th>103</th>\n",
       "      <td>1</td>\n",
       "      <td>-2</td>\n",
       "    </tr>\n",
       "    <tr>\n",
       "      <th>104</th>\n",
       "      <td>1</td>\n",
       "      <td>-2</td>\n",
       "    </tr>\n",
       "    <tr>\n",
       "      <th>105</th>\n",
       "      <td>32472</td>\n",
       "      <td>32470</td>\n",
       "    </tr>\n",
       "    <tr>\n",
       "      <th>...</th>\n",
       "      <td>...</td>\n",
       "      <td>...</td>\n",
       "    </tr>\n",
       "    <tr>\n",
       "      <th>196</th>\n",
       "      <td>30942</td>\n",
       "      <td>30939</td>\n",
       "    </tr>\n",
       "    <tr>\n",
       "      <th>197</th>\n",
       "      <td>0</td>\n",
       "      <td>161706</td>\n",
       "    </tr>\n",
       "    <tr>\n",
       "      <th>198</th>\n",
       "      <td>122199</td>\n",
       "      <td>122197</td>\n",
       "    </tr>\n",
       "    <tr>\n",
       "      <th>199</th>\n",
       "      <td>1</td>\n",
       "      <td>-2</td>\n",
       "    </tr>\n",
       "    <tr>\n",
       "      <th>200</th>\n",
       "      <td>1</td>\n",
       "      <td>-2</td>\n",
       "    </tr>\n",
       "  </tbody>\n",
       "</table>\n",
       "<p>100 rows × 2 columns</p>\n",
       "</div>"
      ],
      "text/plain": [
       "     f8-f19  f8-f13\n",
       "Id                 \n",
       "101   -1724   -1725\n",
       "102    -415    -416\n",
       "103       1      -2\n",
       "104       1      -2\n",
       "105   32472   32470\n",
       "..      ...     ...\n",
       "196   30942   30939\n",
       "197       0  161706\n",
       "198  122199  122197\n",
       "199       1      -2\n",
       "200       1      -2\n",
       "\n",
       "[100 rows x 2 columns]"
      ]
     },
     "execution_count": 204,
     "metadata": {},
     "output_type": "execute_result"
    }
   ],
   "source": [
    "df_copy[['f8-f19', 'f8-f13']][100:200]"
   ]
  },
  {
   "cell_type": "code",
   "execution_count": 13,
   "metadata": {},
   "outputs": [],
   "source": [
    "def name_to_ind(df, ind): return list(map(df.columns.tolist().index, ind))"
   ]
  },
  {
   "cell_type": "code",
   "execution_count": 27,
   "metadata": {},
   "outputs": [],
   "source": [
    "def tuner(tun_param, feats):\n",
    "    return GridSearchCV(lgbm.LGBMClassifier(**fix_param, **var_param), \n",
    "                        tun_param, \n",
    "                        cv=StratifiedKFold(5), \n",
    "                        scoring='roc_auc', \n",
    "                        n_jobs=-1).fit(X_df[feats].values, y)\n",
    "\n",
    "def scorer(feats):\n",
    "    grid = tuner(tun_param, feats)\n",
    "    return round(grid.best_score_, 5)"
   ]
  },
  {
   "cell_type": "code",
   "execution_count": 18,
   "metadata": {},
   "outputs": [
    {
     "data": {
      "text/plain": [
       "0.89808"
      ]
     },
     "execution_count": 18,
     "metadata": {},
     "output_type": "execute_result"
    }
   ],
   "source": [
    "scorer(['f14', 'f13', 'f15', 'f4', 'f8wf13wf19', 'f4-f7', 'f1', 'f16', 'f17-f4'])"
   ]
  },
  {
   "cell_type": "code",
   "execution_count": 20,
   "metadata": {},
   "outputs": [],
   "source": [
    "def feature_selector(X_df):\n",
    "    primary = (veteran_cols, 0)\n",
    "    cols = np.setdiff1d(X_df.columns.tolist(), ignored_cols).tolist()\n",
    "    for _ in range(len(cols) - len(veteran_cols)):\n",
    "        best_feature_score = (0, 0)\n",
    "        remaining_features = np.setdiff1d(cols, primary[0]).tolist()\n",
    "        for current_feature in remaining_features:\n",
    "            current_features = primary[0] + [current_feature]\n",
    "            current_score = scorer(current_features)\n",
    "            if current_score > best_feature_score[1]:\n",
    "                best_feature_score = (current_feature, current_score)\n",
    "        if best_feature_score[1] > primary[1]:\n",
    "            primary = (primary[0] + [best_feature_score[0]], best_feature_score[1])\n",
    "            print(primary)\n",
    "        else:\n",
    "            break\n",
    "\n",
    "    print('done')\n",
    "    print(primary)"
   ]
  },
  {
   "cell_type": "code",
   "execution_count": 45,
   "metadata": {},
   "outputs": [
    {
     "name": "stdout",
     "output_type": "stream",
     "text": [
      "(['f14', 'f13', 'f15', 'f4', 'f8wf13wf19'], 0.8871028267695898)\n",
      "(['f14', 'f13', 'f15', 'f4', 'f8wf13wf19', 'f4-f7'], 0.8906959590691969)\n",
      "(['f14', 'f13', 'f15', 'f4', 'f8wf13wf19', 'f4-f7', 'f16'], 0.8916971134248703)\n",
      "(['f14', 'f13', 'f15', 'f4', 'f8wf13wf19', 'f4-f7', 'f16', 'f17'], 0.8929468625620874)\n",
      "(['f14', 'f13', 'f15', 'f4', 'f8wf13wf19', 'f4-f7', 'f16', 'f17', 'f19'], 0.8959542967866547)\n",
      "(['f14', 'f13', 'f15', 'f4', 'f8wf13wf19', 'f4-f7', 'f16', 'f17', 'f19', 'f1'], 0.8963335416038576)\n",
      "(['f14', 'f13', 'f15', 'f4', 'f8wf13wf19', 'f4-f7', 'f16', 'f17', 'f19', 'f1', 'f8-f19'], 0.8983396513566012)\n",
      "done\n",
      "0.8983396513566012\n",
      "['f14', 'f13', 'f15', 'f4', 'f8wf13wf19', 'f4-f7', 'f16', 'f17', 'f19', 'f1', 'f8-f19']\n"
     ]
    }
   ],
   "source": [
    "feature_selector(X_df)"
   ]
  },
  {
   "cell_type": "code",
   "execution_count": null,
   "metadata": {},
   "outputs": [],
   "source": [
    "outcome_cols = [\n",
    "    [0, 1, 3, 6, 7, 12, 13, 14, 15, 16, 18, 23], # old best\n",
    "    [13, 12, 14, 3, 7, 18, 15], # with originals\n",
    "    [13, 12, 14, 3, 29, 27], # with new\n",
    "    ['f14', 'f13', 'f15', 'f4', 'f8wf13wf19', 'f4-f7', 'f1', 'f16', 'f17-f4'], # 0.89808\n",
    "    ['f14', 'f13', 'f15', 'f4', 'f8wf13wf19', 'f4-f7', 'f16', 'f17', 'f19', 'f1', 'f8-f19'] # 0.89834\n",
    "]"
   ]
  },
  {
   "cell_type": "code",
   "execution_count": 55,
   "metadata": {},
   "outputs": [
    {
     "name": "stdout",
     "output_type": "stream",
     "text": [
      "({'feature_fraction': 0.1, 'min_child_weight': 1e-07, 'n_estimators': 880}, 0.8735341755749919)\n",
      "({'feature_fraction': 0.4, 'min_child_weight': 1e-07, 'n_estimators': 950}, 0.8787802840434418)\n",
      "({'feature_fraction': 0.1, 'min_child_weight': 1e-07, 'n_estimators': 880}, 0.8920089338993742)\n",
      "({'feature_fraction': 0.1, 'min_child_weight': 1e-07, 'n_estimators': 880}, 0.870463781380529)\n",
      "({'feature_fraction': 0.1, 'min_child_weight': 1e-07, 'n_estimators': 950}, 0.8973695802332018)\n"
     ]
    }
   ],
   "source": [
    "selected_cols = ['f14', 'f13', 'f15', 'f4', 'f8wf13wf19', 'f4-f7', 'f16', 'f17', 'f19', 'f1', 'f8-f19']\n",
    "\n",
    "tun_param = {\n",
    "    'n_estimators':                  [880, 950],\n",
    "    'min_child_weight':              [1e-7], \n",
    "    'feature_fraction':              [0.1, 0.4],\n",
    "}\n",
    "\n",
    "best_params = []\n",
    "for train_index, test_index in StratifiedKFold(n_splits=5, shuffle=True).split(X_df[selected_cols].values, y):\n",
    "    X_train, X_test, y_train, y_test = X[train_index], X[test_index], y[train_index], y[test_index]\n",
    "#     X_train, y_train = SMOTE(sampling_strategy='minority').fit_resample(X_train, y_train)\n",
    "    best_param = ({}, 0)\n",
    "    for param_set in ParameterGrid(tun_param):\n",
    "        model = lgbm.LGBMClassifier(**fix_param, **var_param, **param_set).fit(X_train, y_train)\n",
    "        y_score = model.predict_proba(X_test)[:, 1]\n",
    "        score = roc_auc_score(y_test, y_score)\n",
    "        if score > best_param[1]:\n",
    "            best_param = (param_set, score)\n",
    "    print(best_param)\n",
    "    best_params.append([frozenset(best_param[0].values()), score])"
   ]
  },
  {
   "cell_type": "code",
   "execution_count": 239,
   "metadata": {},
   "outputs": [
    {
     "name": "stdout",
     "output_type": "stream",
     "text": [
      "Best parameters {'boosting_type': 'gbdt', 'colsample_bytree': 0.01, 'max_depth': 6, 'min_child_weight': 1e-09, 'min_split_gain': 6e-06, 'n_estimators': 933, 'neg_bagging_fraction': 0.9, 'num_leaves': 28, 'pos_bagging_fraction': 0.5, 'seed': 49, 'subsample': 0.001, 'subsample_freq': 2}.\n",
      "Best auc score is 0.8999725150718494.\n"
     ]
    }
   ],
   "source": [
    "now_param = [{\n",
    "    'boosting_type':                 ['gbdt'],\n",
    "    'n_estimators':                  [933], \n",
    "    'min_child_weight':              [1e-9], \n",
    "    'min_split_gain':                [6e-6], \n",
    "    'colsample_bytree':              [0.01],\n",
    "    'num_leaves':                    [28],\n",
    "    'max_depth':                     [6],\n",
    "    'pos_bagging_fraction':          [0.5],\n",
    "    'neg_bagging_fraction':          [0.9],\n",
    "    'subsample_freq':                [2],\n",
    "    'subsample':                     [1e-3],\n",
    "    'seed':                          list(range(40, 50))\n",
    "}]\n",
    "\n",
    "def do_tune(tun_param, feats, data=None):\n",
    "    data = data or X_df[feats].values\n",
    "    grid = GridSearchCV(lgbm.LGBMClassifier(**fix_param, **var_param), \n",
    "                        tun_param, \n",
    "                        cv=StratifiedKFold(5), \n",
    "                        scoring='roc_auc', \n",
    "                        n_jobs=-1)\n",
    "    \n",
    "    grid.fit(data, y)\n",
    "    \n",
    "    print(f'Best parameters {grid.best_params_}.')\n",
    "    print(f'Best auc score is {grid.best_score_}.')\n",
    "    \n",
    "    clfs.append(grid.best_estimator_)\n",
    "\n",
    "do_tune(now_param, selected_cols)"
   ]
  },
  {
   "cell_type": "code",
   "execution_count": 251,
   "metadata": {},
   "outputs": [
    {
     "data": {
      "text/plain": [
       "'Re-training...'"
      ]
     },
     "metadata": {},
     "output_type": "display_data"
    },
    {
     "data": {
      "text/plain": [
       "'Writing...'"
      ]
     },
     "metadata": {},
     "output_type": "display_data"
    },
    {
     "data": {
      "text/plain": [
       "'Done.'"
      ]
     },
     "metadata": {},
     "output_type": "display_data"
    }
   ],
   "source": [
    "req_rows = 16384\n",
    "sealed_feats = []\n",
    "\n",
    "display('Re-training...')\n",
    "preds_dfs = []\n",
    "sealed_feats = [selected_cols, selected_cols, selected_cols, selected_cols, selected_cols]\n",
    "for feats, clf in zip(sealed_feats, clfs):\n",
    "    clf.fit(X_df[feats].values, y)\n",
    "    preds_dfs.append(pd.DataFrame(clf.predict_proba(df_copy1[feats].values)[:, 1], \n",
    "                          index=list(range(req_rows, req_rows*2 + 1)), \n",
    "                          columns=['Y']))\n",
    "\n",
    "display('Writing...')\n",
    "for idx, df in enumerate(preds_dfs):\n",
    "    df.index.name = 'Id'\n",
    "    df.to_csv(f'submission_26_{idx}.csv', float_format='%.15f')\n",
    "display('Done.')"
   ]
  },
  {
   "cell_type": "code",
   "execution_count": 184,
   "metadata": {},
   "outputs": [
    {
     "data": {
      "text/plain": [
       "0.8907978906607903"
      ]
     },
     "execution_count": 184,
     "metadata": {},
     "output_type": "execute_result"
    }
   ],
   "source": [
    "clfs[0].fit(X_df[selected_cols].values, y)\n",
    "X_train, X_test, y_train, y_test = train_test_split(X_df[selected_cols].values, y, test_size=0.2)\n",
    "clfs[0].fit(X_train, y_train)\n",
    "roc_auc_score(y_test, clfs[0].predict_proba(X_test)[:, 1])"
   ]
  }
 ],
 "metadata": {
  "kernelspec": {
   "display_name": "Python 3",
   "language": "python",
   "name": "python3"
  },
  "language_info": {
   "codemirror_mode": {
    "name": "ipython",
    "version": 3
   },
   "file_extension": ".py",
   "mimetype": "text/x-python",
   "name": "python",
   "nbconvert_exporter": "python",
   "pygments_lexer": "ipython3",
   "version": "3.6.8"
  }
 },
 "nbformat": 4,
 "nbformat_minor": 2
}
